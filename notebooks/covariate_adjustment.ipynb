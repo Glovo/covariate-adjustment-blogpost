{
 "cells": [
  {
   "cell_type": "code",
   "execution_count": 1,
   "id": "d34ae6e3-40cc-4274-920e-15160155b55e",
   "metadata": {},
   "outputs": [],
   "source": [
    "import os\n",
    "import sys\n",
    "sys.path.append('../src')\n",
    "import numpy as np\n",
    "\n",
    "from generator import generate_samples\n",
    "from utils import split_and_preprocess\n",
    "from adjustment_methods import (\n",
    "    get_ate_ols,\n",
    "    get_ate_cuped,\n",
    "    get_ate_cupac,\n",
    "    get_ate_doubly_robust,\n",
    ")\n",
    "\n",
    "import seaborn as sns\n",
    "import pandas as pd\n",
    "import matplotlib.pyplot as plt\n",
    "\n",
    "%load_ext autoreload\n",
    "%autoreload 2"
   ]
  },
  {
   "cell_type": "markdown",
   "id": "3ea1cb0e-7dc9-4dce-9caf-4e52beac60d5",
   "metadata": {},
   "source": [
    "# Using the generator to generate some samples"
   ]
  },
  {
   "cell_type": "markdown",
   "id": "c007a5e3-2ddb-49be-882a-b496406b4c68",
   "metadata": {},
   "source": [
    "### With no covariates"
   ]
  },
  {
   "cell_type": "code",
   "execution_count": 2,
   "id": "290d2ca4-a8eb-48ba-9f54-02f24bf78e02",
   "metadata": {},
   "outputs": [
    {
     "data": {
      "text/html": [
       "<div>\n",
       "<style scoped>\n",
       "    .dataframe tbody tr th:only-of-type {\n",
       "        vertical-align: middle;\n",
       "    }\n",
       "\n",
       "    .dataframe tbody tr th {\n",
       "        vertical-align: top;\n",
       "    }\n",
       "\n",
       "    .dataframe thead th {\n",
       "        text-align: right;\n",
       "    }\n",
       "</style>\n",
       "<table border=\"1\" class=\"dataframe\">\n",
       "  <thead>\n",
       "    <tr style=\"text-align: right;\">\n",
       "      <th></th>\n",
       "      <th>Y</th>\n",
       "      <th>T</th>\n",
       "      <th>Y_before</th>\n",
       "      <th>R_1</th>\n",
       "    </tr>\n",
       "  </thead>\n",
       "  <tbody>\n",
       "    <tr>\n",
       "      <th>0</th>\n",
       "      <td>4.877997</td>\n",
       "      <td>0</td>\n",
       "      <td>4.382883</td>\n",
       "      <td>1.287700</td>\n",
       "    </tr>\n",
       "    <tr>\n",
       "      <th>1</th>\n",
       "      <td>1.334946</td>\n",
       "      <td>0</td>\n",
       "      <td>5.706182</td>\n",
       "      <td>-0.710599</td>\n",
       "    </tr>\n",
       "    <tr>\n",
       "      <th>2</th>\n",
       "      <td>3.968429</td>\n",
       "      <td>1</td>\n",
       "      <td>4.962774</td>\n",
       "      <td>0.214497</td>\n",
       "    </tr>\n",
       "    <tr>\n",
       "      <th>3</th>\n",
       "      <td>7.015296</td>\n",
       "      <td>0</td>\n",
       "      <td>5.417776</td>\n",
       "      <td>-0.956151</td>\n",
       "    </tr>\n",
       "    <tr>\n",
       "      <th>4</th>\n",
       "      <td>6.311648</td>\n",
       "      <td>0</td>\n",
       "      <td>5.272404</td>\n",
       "      <td>0.990580</td>\n",
       "    </tr>\n",
       "    <tr>\n",
       "      <th>...</th>\n",
       "      <td>...</td>\n",
       "      <td>...</td>\n",
       "      <td>...</td>\n",
       "      <td>...</td>\n",
       "    </tr>\n",
       "    <tr>\n",
       "      <th>9995</th>\n",
       "      <td>9.442465</td>\n",
       "      <td>0</td>\n",
       "      <td>5.440529</td>\n",
       "      <td>-0.323190</td>\n",
       "    </tr>\n",
       "    <tr>\n",
       "      <th>9996</th>\n",
       "      <td>2.671538</td>\n",
       "      <td>0</td>\n",
       "      <td>5.050690</td>\n",
       "      <td>0.044956</td>\n",
       "    </tr>\n",
       "    <tr>\n",
       "      <th>9997</th>\n",
       "      <td>1.541621</td>\n",
       "      <td>0</td>\n",
       "      <td>3.573520</td>\n",
       "      <td>0.488989</td>\n",
       "    </tr>\n",
       "    <tr>\n",
       "      <th>9998</th>\n",
       "      <td>2.462050</td>\n",
       "      <td>0</td>\n",
       "      <td>5.048884</td>\n",
       "      <td>2.200604</td>\n",
       "    </tr>\n",
       "    <tr>\n",
       "      <th>9999</th>\n",
       "      <td>1.954114</td>\n",
       "      <td>0</td>\n",
       "      <td>4.651116</td>\n",
       "      <td>0.188509</td>\n",
       "    </tr>\n",
       "  </tbody>\n",
       "</table>\n",
       "<p>10000 rows × 4 columns</p>\n",
       "</div>"
      ],
      "text/plain": [
       "             Y  T  Y_before       R_1\n",
       "0     4.877997  0  4.382883  1.287700\n",
       "1     1.334946  0  5.706182 -0.710599\n",
       "2     3.968429  1  4.962774  0.214497\n",
       "3     7.015296  0  5.417776 -0.956151\n",
       "4     6.311648  0  5.272404  0.990580\n",
       "...        ... ..       ...       ...\n",
       "9995  9.442465  0  5.440529 -0.323190\n",
       "9996  2.671538  0  5.050690  0.044956\n",
       "9997  1.541621  0  3.573520  0.488989\n",
       "9998  2.462050  0  5.048884  2.200604\n",
       "9999  1.954114  0  4.651116  0.188509\n",
       "\n",
       "[10000 rows x 4 columns]"
      ]
     },
     "execution_count": 2,
     "metadata": {},
     "output_type": "execute_result"
    }
   ],
   "source": [
    "data = generate_samples(\n",
    "    mu_metric=5,\n",
    "    sigma_metric=1,\n",
    "    epsilon=2,\n",
    "    treatment_effect=1,\n",
    "    size=10_000,\n",
    "    cov_mu_eps=[],\n",
    "    non_linear=[],\n",
    "    p_binomial=0.1,\n",
    "    seed=0,\n",
    ")\n",
    "data"
   ]
  },
  {
   "cell_type": "markdown",
   "id": "347e94df-b672-47b5-bbf8-3b0da94bac44",
   "metadata": {},
   "source": [
    "### With covariates"
   ]
  },
  {
   "cell_type": "code",
   "execution_count": 13,
   "id": "52463400-6919-4923-8a69-34fe1f30eba2",
   "metadata": {},
   "outputs": [
    {
     "data": {
      "text/html": [
       "<div>\n",
       "<style scoped>\n",
       "    .dataframe tbody tr th:only-of-type {\n",
       "        vertical-align: middle;\n",
       "    }\n",
       "\n",
       "    .dataframe tbody tr th {\n",
       "        vertical-align: top;\n",
       "    }\n",
       "\n",
       "    .dataframe thead th {\n",
       "        text-align: right;\n",
       "    }\n",
       "</style>\n",
       "<table border=\"1\" class=\"dataframe\">\n",
       "  <thead>\n",
       "    <tr style=\"text-align: right;\">\n",
       "      <th></th>\n",
       "      <th>Y</th>\n",
       "      <th>T</th>\n",
       "      <th>Y_before</th>\n",
       "      <th>X_1</th>\n",
       "      <th>X_2</th>\n",
       "      <th>X_3</th>\n",
       "      <th>R_1</th>\n",
       "    </tr>\n",
       "  </thead>\n",
       "  <tbody>\n",
       "    <tr>\n",
       "      <th>0</th>\n",
       "      <td>26.732167</td>\n",
       "      <td>1</td>\n",
       "      <td>3.936857</td>\n",
       "      <td>-1.163655</td>\n",
       "      <td>-0.540943</td>\n",
       "      <td>4.571790</td>\n",
       "      <td>0.763414</td>\n",
       "    </tr>\n",
       "    <tr>\n",
       "      <th>1</th>\n",
       "      <td>37.701593</td>\n",
       "      <td>0</td>\n",
       "      <td>4.185564</td>\n",
       "      <td>-1.025158</td>\n",
       "      <td>-0.968782</td>\n",
       "      <td>5.970232</td>\n",
       "      <td>1.330552</td>\n",
       "    </tr>\n",
       "    <tr>\n",
       "      <th>2</th>\n",
       "      <td>13.901865</td>\n",
       "      <td>0</td>\n",
       "      <td>3.888119</td>\n",
       "      <td>-0.606926</td>\n",
       "      <td>-1.991846</td>\n",
       "      <td>3.706255</td>\n",
       "      <td>-1.364600</td>\n",
       "    </tr>\n",
       "    <tr>\n",
       "      <th>3</th>\n",
       "      <td>40.332955</td>\n",
       "      <td>1</td>\n",
       "      <td>6.178844</td>\n",
       "      <td>-1.115551</td>\n",
       "      <td>-1.484831</td>\n",
       "      <td>6.096019</td>\n",
       "      <td>0.158547</td>\n",
       "    </tr>\n",
       "    <tr>\n",
       "      <th>4</th>\n",
       "      <td>62.274289</td>\n",
       "      <td>0</td>\n",
       "      <td>7.696119</td>\n",
       "      <td>0.741448</td>\n",
       "      <td>-1.502307</td>\n",
       "      <td>7.362789</td>\n",
       "      <td>0.017316</td>\n",
       "    </tr>\n",
       "    <tr>\n",
       "      <th>...</th>\n",
       "      <td>...</td>\n",
       "      <td>...</td>\n",
       "      <td>...</td>\n",
       "      <td>...</td>\n",
       "      <td>...</td>\n",
       "      <td>...</td>\n",
       "      <td>...</td>\n",
       "    </tr>\n",
       "    <tr>\n",
       "      <th>9995</th>\n",
       "      <td>57.472413</td>\n",
       "      <td>1</td>\n",
       "      <td>5.303162</td>\n",
       "      <td>-2.707667</td>\n",
       "      <td>-2.141857</td>\n",
       "      <td>7.317393</td>\n",
       "      <td>-0.676291</td>\n",
       "    </tr>\n",
       "    <tr>\n",
       "      <th>9996</th>\n",
       "      <td>23.796151</td>\n",
       "      <td>0</td>\n",
       "      <td>5.538354</td>\n",
       "      <td>-1.473631</td>\n",
       "      <td>-3.828844</td>\n",
       "      <td>4.629548</td>\n",
       "      <td>0.608841</td>\n",
       "    </tr>\n",
       "    <tr>\n",
       "      <th>9997</th>\n",
       "      <td>12.913443</td>\n",
       "      <td>1</td>\n",
       "      <td>6.014092</td>\n",
       "      <td>-1.543681</td>\n",
       "      <td>-4.097892</td>\n",
       "      <td>3.725694</td>\n",
       "      <td>-1.435856</td>\n",
       "    </tr>\n",
       "    <tr>\n",
       "      <th>9998</th>\n",
       "      <td>29.816313</td>\n",
       "      <td>1</td>\n",
       "      <td>5.580853</td>\n",
       "      <td>-0.886249</td>\n",
       "      <td>-2.579803</td>\n",
       "      <td>5.205852</td>\n",
       "      <td>-1.619453</td>\n",
       "    </tr>\n",
       "    <tr>\n",
       "      <th>9999</th>\n",
       "      <td>112.300067</td>\n",
       "      <td>0</td>\n",
       "      <td>5.008122</td>\n",
       "      <td>-0.608647</td>\n",
       "      <td>-1.535813</td>\n",
       "      <td>10.233915</td>\n",
       "      <td>-2.030223</td>\n",
       "    </tr>\n",
       "  </tbody>\n",
       "</table>\n",
       "<p>10000 rows × 7 columns</p>\n",
       "</div>"
      ],
      "text/plain": [
       "               Y  T  Y_before       X_1       X_2        X_3       R_1\n",
       "0      26.732167  1  3.936857 -1.163655 -0.540943   4.571790  0.763414\n",
       "1      37.701593  0  4.185564 -1.025158 -0.968782   5.970232  1.330552\n",
       "2      13.901865  0  3.888119 -0.606926 -1.991846   3.706255 -1.364600\n",
       "3      40.332955  1  6.178844 -1.115551 -1.484831   6.096019  0.158547\n",
       "4      62.274289  0  7.696119  0.741448 -1.502307   7.362789  0.017316\n",
       "...          ... ..       ...       ...       ...        ...       ...\n",
       "9995   57.472413  1  5.303162 -2.707667 -2.141857   7.317393 -0.676291\n",
       "9996   23.796151  0  5.538354 -1.473631 -3.828844   4.629548  0.608841\n",
       "9997   12.913443  1  6.014092 -1.543681 -4.097892   3.725694 -1.435856\n",
       "9998   29.816313  1  5.580853 -0.886249 -2.579803   5.205852 -1.619453\n",
       "9999  112.300067  0  5.008122 -0.608647 -1.535813  10.233915 -2.030223\n",
       "\n",
       "[10000 rows x 7 columns]"
      ]
     },
     "execution_count": 13,
     "metadata": {},
     "output_type": "execute_result"
    }
   ],
   "source": [
    "data = generate_samples(\n",
    "    mu_metric=5,\n",
    "    sigma_metric=1,\n",
    "    epsilon=2,\n",
    "    treatment_effect=2,\n",
    "    size=10_000,\n",
    "    cov_mu_eps=[(-1,1),(-2,1),(5,2)],\n",
    "    non_linear=[False, False, True],\n",
    "    p_binomial=0.5,\n",
    "    seed=0,\n",
    ")\n",
    "data"
   ]
  },
  {
   "cell_type": "markdown",
   "id": "5efd4e1d-2fdf-4a6f-9cec-b4fbbce04a14",
   "metadata": {},
   "source": [
    "# Getting a single ATE for this data"
   ]
  },
  {
   "cell_type": "code",
   "execution_count": 14,
   "id": "883d081e",
   "metadata": {},
   "outputs": [
    {
     "data": {
      "text/plain": [
       "(5000, 5000)"
      ]
     },
     "execution_count": 14,
     "metadata": {},
     "output_type": "execute_result"
    }
   ],
   "source": [
    "train_data, test_data = split_and_preprocess(data, treatment_effect=2)\n",
    "len(train_data), len(test_data)"
   ]
  },
  {
   "cell_type": "markdown",
   "id": "2c697e38-31aa-4ee0-870d-c8ff6e2f25e0",
   "metadata": {},
   "source": [
    "# Mean Diff"
   ]
  },
  {
   "cell_type": "code",
   "execution_count": 15,
   "id": "12d7cf9a-5a73-45de-99e3-c74612ac78b1",
   "metadata": {},
   "outputs": [
    {
     "data": {
      "text/plain": [
       "1.675298511359017"
      ]
     },
     "execution_count": 15,
     "metadata": {},
     "output_type": "execute_result"
    }
   ],
   "source": [
    "test_data.loc[test_data['T']==1, 'Y'].mean() - test_data.loc[test_data['T']==0, 'Y'].mean()"
   ]
  },
  {
   "cell_type": "markdown",
   "id": "5f2722b8-40ba-480b-9b26-617711dcee76",
   "metadata": {},
   "source": [
    "### CUPED"
   ]
  },
  {
   "cell_type": "markdown",
   "id": "3625e9e0-27df-4b94-8cc8-d9991a6249f6",
   "metadata": {},
   "source": [
    "Only uses outcome pre experiment"
   ]
  },
  {
   "cell_type": "code",
   "execution_count": 16,
   "id": "bdae3555-fb9d-411c-bdc0-4e4e2fb55ae1",
   "metadata": {},
   "outputs": [
    {
     "data": {
      "text/plain": [
       "1.6509293548894028"
      ]
     },
     "execution_count": 16,
     "metadata": {},
     "output_type": "execute_result"
    }
   ],
   "source": [
    "get_ate_cuped(test_data)"
   ]
  },
  {
   "cell_type": "markdown",
   "id": "5a447abd-2f11-4fba-a9c8-36a013d2dfdc",
   "metadata": {},
   "source": [
    "### Multivariable regression"
   ]
  },
  {
   "cell_type": "code",
   "execution_count": 17,
   "id": "5356566a-c786-45af-b3ad-ee2d75e2d6db",
   "metadata": {},
   "outputs": [
    {
     "data": {
      "text/plain": [
       "1.7196098201154364"
      ]
     },
     "execution_count": 17,
     "metadata": {},
     "output_type": "execute_result"
    }
   ],
   "source": [
    "get_ate_ols(test_data, covariates=[\"Y_before\", \"X_1\", \"X_2\", \"X_3\"])"
   ]
  },
  {
   "cell_type": "markdown",
   "id": "1fd13d67-9bfe-4aa4-976a-6d4c4b0ddb77",
   "metadata": {},
   "source": [
    "### CUPAC"
   ]
  },
  {
   "cell_type": "code",
   "execution_count": 18,
   "id": "33923d6d",
   "metadata": {},
   "outputs": [
    {
     "data": {
      "text/plain": [
       "2.035720650321572"
      ]
     },
     "execution_count": 18,
     "metadata": {},
     "output_type": "execute_result"
    }
   ],
   "source": [
    "get_ate_cupac(test_data, train_data, covariates=[\"Y_before\", \"X_1\", \"X_2\", \"X_3\"])"
   ]
  },
  {
   "cell_type": "markdown",
   "id": "97660539-c653-4614-aab4-ff5cdc4ba846",
   "metadata": {},
   "source": [
    "### Doubly Robust"
   ]
  },
  {
   "cell_type": "code",
   "execution_count": 19,
   "id": "1d4b5726",
   "metadata": {},
   "outputs": [
    {
     "data": {
      "text/plain": [
       "1.674608798947819"
      ]
     },
     "execution_count": 19,
     "metadata": {},
     "output_type": "execute_result"
    }
   ],
   "source": [
    "get_ate_doubly_robust(test_data, covariates=[\"Y_before\", \"X_1\", \"X_2\", \"X_3\"])"
   ]
  },
  {
   "cell_type": "markdown",
   "id": "1532aa92-8075-44db-9e1d-a6c362be6d89",
   "metadata": {},
   "source": [
    "## Simulating the experiment many times, supposing only linear effects"
   ]
  },
  {
   "cell_type": "markdown",
   "id": "0ea41aae-5999-403e-a4fb-2e5a03495816",
   "metadata": {},
   "source": [
    "$$\\epsilon \\sim N(0,2)$$\n",
    "$$Y_0 \\sim N(20,10)$$\n",
    "$$X_1 \\sim N(-1,-1)$$\n",
    "$$X_2 \\sim N(-2,1)$$\n",
    "$$X_3 \\sim N(5,5)$$\n",
    "\n",
    "$$Y = Y_0 + 0.1*T + X_1 + X_2 + X_3 + \\epsilon$$"
   ]
  },
  {
   "cell_type": "code",
   "execution_count": 10,
   "id": "10ee55b2",
   "metadata": {},
   "outputs": [
    {
     "data": {
      "image/png": "[encoded data removed]",
      "text/plain": [
       "<Figure size 648.375x500 with 1 Axes>"
      ]
     },
     "metadata": {},
     "output_type": "display_data"
    },
    {
     "data": {
      "text/html": [
       "<div>\n",
       "<style scoped>\n",
       "    .dataframe tbody tr th:only-of-type {\n",
       "        vertical-align: middle;\n",
       "    }\n",
       "\n",
       "    .dataframe tbody tr th {\n",
       "        vertical-align: top;\n",
       "    }\n",
       "\n",
       "    .dataframe thead th {\n",
       "        text-align: right;\n",
       "    }\n",
       "</style>\n",
       "<table border=\"1\" class=\"dataframe\">\n",
       "  <thead>\n",
       "    <tr style=\"text-align: right;\">\n",
       "      <th></th>\n",
       "      <th>method</th>\n",
       "      <th>mse</th>\n",
       "    </tr>\n",
       "  </thead>\n",
       "  <tbody>\n",
       "    <tr>\n",
       "      <th>0</th>\n",
       "      <td>cupac</td>\n",
       "      <td>0.000309</td>\n",
       "    </tr>\n",
       "    <tr>\n",
       "      <th>1</th>\n",
       "      <td>cuped</td>\n",
       "      <td>0.002330</td>\n",
       "    </tr>\n",
       "    <tr>\n",
       "      <th>2</th>\n",
       "      <td>doubly_robust</td>\n",
       "      <td>0.011005</td>\n",
       "    </tr>\n",
       "    <tr>\n",
       "      <th>3</th>\n",
       "      <td>mean_diff</td>\n",
       "      <td>0.010825</td>\n",
       "    </tr>\n",
       "    <tr>\n",
       "      <th>4</th>\n",
       "      <td>ols_cov_all</td>\n",
       "      <td>0.000297</td>\n",
       "    </tr>\n",
       "  </tbody>\n",
       "</table>\n",
       "</div>"
      ],
      "text/plain": [
       "          method       mse\n",
       "0          cupac  0.000309\n",
       "1          cuped  0.002330\n",
       "2  doubly_robust  0.011005\n",
       "3      mean_diff  0.010825\n",
       "4    ols_cov_all  0.000297"
      ]
     },
     "execution_count": 10,
     "metadata": {},
     "output_type": "execute_result"
    }
   ],
   "source": [
    "ate = []\n",
    "ate_cuped = []\n",
    "ate_ols_cov = []\n",
    "ate_cupac = []\n",
    "ate_doubly_robust = []\n",
    "\n",
    "N_SAMPLES = 100_000\n",
    "N_SIMULATIONS = 100\n",
    "REAL_ATE = 0.1\n",
    "\n",
    "for i in range(N_SIMULATIONS):\n",
    "    data = generate_samples(\n",
    "        mu_metric=20,\n",
    "        sigma_metric=10,\n",
    "        epsilon=2,\n",
    "        treatment_effect=REAL_ATE,\n",
    "        size=N_SAMPLES,\n",
    "        cov_mu_eps=[(-1,1),(-2,1),(5,5)],\n",
    "    )\n",
    "\n",
    "    pre_analysis_data, analysis_data = split_and_preprocess(data, REAL_ATE)\n",
    "    ate_cupac.append(get_ate_cupac(analysis_data, pre_analysis_data, covariates=['Y_before', 'X_1', 'X_2', 'X_3']))\n",
    "    ate.append(analysis_data.loc[analysis_data['T']==1, 'Y'].mean() - analysis_data.loc[analysis_data['T']==0, 'Y'].mean())\n",
    "    ate_ols_cov.append(get_ate_ols(analysis_data, covariates=['Y_before', 'X_1', 'X_2', 'X_3']))\n",
    "    ate_cuped.append(get_ate_cuped(analysis_data))\n",
    "    ate_doubly_robust.append(get_ate_doubly_robust(analysis_data, covariates=['Y_before', 'X_1', 'X_2', 'X_3']))\n",
    "\n",
    "results = pd.DataFrame({\n",
    "    'mean_diff': ate,\n",
    "    'ols_cov_all': ate_ols_cov,\n",
    "    'cuped': ate_cuped,\n",
    "    'cupac': ate_cupac,\n",
    "    'doubly_robust': ate_doubly_robust,\n",
    "}).stack(level=0).reset_index(level=1, name='ATE').rename({'level_1': 'method'}, axis=1).reset_index(drop=True)\n",
    "errors = pd.DataFrame({\n",
    "    'mean_diff': (np.array(ate) - REAL_ATE)**2,\n",
    "    'ols_cov_all': (np.array(ate_ols_cov) - REAL_ATE)**2,\n",
    "    'cuped': (np.array(ate_cuped) - REAL_ATE)**2,\n",
    "    'cupac': (np.array(ate_cupac) - REAL_ATE)**2,\n",
    "    'doubly_robust': (np.array(ate_doubly_robust) - REAL_ATE)**2,\n",
    "}).stack(level=0).reset_index(level=1, name='ATE').rename({'level_1': 'method'}, axis=1).reset_index(drop=True)\n",
    "\n",
    "\n",
    "sns.displot(x='ATE',data=results, fill=True, kind='kde', hue='method', common_norm=False, alpha=.4, linewidth=0, bw_adjust=1.2);\n",
    "plt.vlines(REAL_ATE, plt.ylim()[0], plt.ylim()[1], linestyles=\"dashed\", label='ATE',colors='k');\n",
    "plt.show()\n",
    "errors.groupby('method').agg(mse=('ATE', 'mean')).reset_index()"
   ]
  },
  {
   "cell_type": "markdown",
   "id": "27f3423a-f428-4775-9770-f843f697ab3c",
   "metadata": {},
   "source": [
    "## Now simulating the same linear process, but using only a random variable as a covariate"
   ]
  },
  {
   "cell_type": "code",
   "execution_count": 11,
   "id": "226f2937",
   "metadata": {},
   "outputs": [
    {
     "data": {
      "image/png": "[encoded data removed]",
      "text/plain": [
       "<Figure size 648.375x500 with 1 Axes>"
      ]
     },
     "metadata": {},
     "output_type": "display_data"
    },
    {
     "data": {
      "text/html": [
       "<div>\n",
       "<style scoped>\n",
       "    .dataframe tbody tr th:only-of-type {\n",
       "        vertical-align: middle;\n",
       "    }\n",
       "\n",
       "    .dataframe tbody tr th {\n",
       "        vertical-align: top;\n",
       "    }\n",
       "\n",
       "    .dataframe thead th {\n",
       "        text-align: right;\n",
       "    }\n",
       "</style>\n",
       "<table border=\"1\" class=\"dataframe\">\n",
       "  <thead>\n",
       "    <tr style=\"text-align: right;\">\n",
       "      <th></th>\n",
       "      <th>method</th>\n",
       "      <th>mse</th>\n",
       "    </tr>\n",
       "  </thead>\n",
       "  <tbody>\n",
       "    <tr>\n",
       "      <th>0</th>\n",
       "      <td>cupac</td>\n",
       "      <td>0.006822</td>\n",
       "    </tr>\n",
       "    <tr>\n",
       "      <th>1</th>\n",
       "      <td>cuped</td>\n",
       "      <td>0.006847</td>\n",
       "    </tr>\n",
       "    <tr>\n",
       "      <th>2</th>\n",
       "      <td>doubly_robust</td>\n",
       "      <td>0.007680</td>\n",
       "    </tr>\n",
       "    <tr>\n",
       "      <th>3</th>\n",
       "      <td>mean_diff</td>\n",
       "      <td>0.006825</td>\n",
       "    </tr>\n",
       "    <tr>\n",
       "      <th>4</th>\n",
       "      <td>ols_cov_all</td>\n",
       "      <td>0.006822</td>\n",
       "    </tr>\n",
       "  </tbody>\n",
       "</table>\n",
       "</div>"
      ],
      "text/plain": [
       "          method       mse\n",
       "0          cupac  0.006822\n",
       "1          cuped  0.006847\n",
       "2  doubly_robust  0.007680\n",
       "3      mean_diff  0.006825\n",
       "4    ols_cov_all  0.006822"
      ]
     },
     "execution_count": 11,
     "metadata": {},
     "output_type": "execute_result"
    }
   ],
   "source": [
    "ate = []\n",
    "ate_cuped = []\n",
    "ate_ols_cov = []\n",
    "ate_cupac = []\n",
    "ate_doubly_robust = []\n",
    "\n",
    "N_SAMPLES = 100_000\n",
    "N_SIMULATIONS = 100\n",
    "REAL_ATE = 0.1\n",
    "\n",
    "for i in range(N_SIMULATIONS):\n",
    "    data = generate_samples(\n",
    "        mu_metric=20,\n",
    "        sigma_metric=10,\n",
    "        epsilon=2,\n",
    "        treatment_effect=REAL_ATE,\n",
    "        size=N_SAMPLES,\n",
    "        cov_mu_eps=[(-1,1),(-2,1),(5,2)],\n",
    "    )\n",
    "\n",
    "    pre_analysis_data, analysis_data = split_and_preprocess(data, REAL_ATE)\n",
    "    ate_cupac.append(get_ate_cupac(analysis_data, pre_analysis_data, covariates=['R_1']))\n",
    "    ate.append(analysis_data.loc[analysis_data['T']==1, 'Y'].mean() - analysis_data.loc[analysis_data['T']==0, 'Y'].mean())\n",
    "    ate_ols_cov.append(get_ate_ols(analysis_data, covariates=['R_1']))\n",
    "    ate_cuped.append(get_ate_cuped(analysis_data, prediction_column='R_1'))\n",
    "    ate_doubly_robust.append(get_ate_doubly_robust(analysis_data, covariates=['R_1']))\n",
    "\n",
    "results = pd.DataFrame({\n",
    "    'mean_diff': ate,\n",
    "    'ols_cov_all': ate_ols_cov,\n",
    "    'cuped': ate_cuped,\n",
    "    'cupac': ate_cupac,\n",
    "    'doubly_robust': ate_doubly_robust,\n",
    "}).stack(level=0).reset_index(level=1, name='ATE').rename({'level_1': 'method'}, axis=1).reset_index(drop=True)\n",
    "errors = pd.DataFrame({\n",
    "    'mean_diff': (np.array(ate) - REAL_ATE)**2,\n",
    "    'ols_cov_all': (np.array(ate_ols_cov) - REAL_ATE)**2,\n",
    "    'cuped': (np.array(ate_cuped) - REAL_ATE)**2,\n",
    "    'cupac': (np.array(ate_cupac) - REAL_ATE)**2,\n",
    "    'doubly_robust': (np.array(ate_doubly_robust) - REAL_ATE)**2,\n",
    "}).stack(level=0).reset_index(level=1, name='ATE').rename({'level_1': 'method'}, axis=1).reset_index(drop=True)\n",
    "\n",
    "\n",
    "sns.displot(x='ATE',data=results, fill=True, kind='kde', hue='method', common_norm=False, alpha=.4, linewidth=0, bw_adjust=1.2);\n",
    "plt.vlines(REAL_ATE, plt.ylim()[0], plt.ylim()[1], linestyles=\"dashed\", label='ATE',colors='k');\n",
    "plt.show()\n",
    "errors.groupby('method').agg(mse=('ATE', 'mean')).reset_index()"
   ]
  },
  {
   "cell_type": "markdown",
   "id": "2beb8c40-f688-4c56-9f48-12c1e6b264d7",
   "metadata": {},
   "source": [
    "## Simulating now with non-linear effects"
   ]
  },
  {
   "cell_type": "markdown",
   "id": "9ff49ad6-dbcb-4e78-9b35-2c8efe8dbcf8",
   "metadata": {},
   "source": [
    "$$\\epsilon \\sim N(0,2)$$\n",
    "$$Y_0 \\sim N(20,10)$$\n",
    "$$X_1 \\sim N(-1,-1)$$\n",
    "$$X_2 \\sim N(-2,1)$$\n",
    "$$X_3 \\sim N(5,5)$$\n",
    "\n",
    "$$Y = Y_0 + 0.1*T + X_1 + X_2 + X_3^2 + \\epsilon$$"
   ]
  },
  {
   "cell_type": "code",
   "execution_count": 12,
   "id": "fa0da721-7f96-4394-8c3d-90487764683d",
   "metadata": {},
   "outputs": [
    {
     "data": {
      "image/png": "[encoded data removed]",
      "text/plain": [
       "<Figure size 648.375x500 with 1 Axes>"
      ]
     },
     "metadata": {},
     "output_type": "display_data"
    },
    {
     "data": {
      "text/html": [
       "<div>\n",
       "<style scoped>\n",
       "    .dataframe tbody tr th:only-of-type {\n",
       "        vertical-align: middle;\n",
       "    }\n",
       "\n",
       "    .dataframe tbody tr th {\n",
       "        vertical-align: top;\n",
       "    }\n",
       "\n",
       "    .dataframe thead th {\n",
       "        text-align: right;\n",
       "    }\n",
       "</style>\n",
       "<table border=\"1\" class=\"dataframe\">\n",
       "  <thead>\n",
       "    <tr style=\"text-align: right;\">\n",
       "      <th></th>\n",
       "      <th>method</th>\n",
       "      <th>mse</th>\n",
       "    </tr>\n",
       "  </thead>\n",
       "  <tbody>\n",
       "    <tr>\n",
       "      <th>0</th>\n",
       "      <td>cupac</td>\n",
       "      <td>0.002051</td>\n",
       "    </tr>\n",
       "    <tr>\n",
       "      <th>1</th>\n",
       "      <td>cuped</td>\n",
       "      <td>0.347158</td>\n",
       "    </tr>\n",
       "    <tr>\n",
       "      <th>2</th>\n",
       "      <td>doubly_robust</td>\n",
       "      <td>0.359015</td>\n",
       "    </tr>\n",
       "    <tr>\n",
       "      <th>3</th>\n",
       "      <td>mean_diff</td>\n",
       "      <td>0.361417</td>\n",
       "    </tr>\n",
       "    <tr>\n",
       "      <th>4</th>\n",
       "      <td>ols_cov_all</td>\n",
       "      <td>0.100884</td>\n",
       "    </tr>\n",
       "  </tbody>\n",
       "</table>\n",
       "</div>"
      ],
      "text/plain": [
       "          method       mse\n",
       "0          cupac  0.002051\n",
       "1          cuped  0.347158\n",
       "2  doubly_robust  0.359015\n",
       "3      mean_diff  0.361417\n",
       "4    ols_cov_all  0.100884"
      ]
     },
     "execution_count": 12,
     "metadata": {},
     "output_type": "execute_result"
    }
   ],
   "source": [
    "ate = []\n",
    "ate_cuped = []\n",
    "ate_ols_cov = []\n",
    "ate_cupac = []\n",
    "ate_doubly_robust = []\n",
    "\n",
    "N_SAMPLES = 100_000\n",
    "N_SIMULATIONS = 100\n",
    "REAL_ATE = 0.1\n",
    "\n",
    "for i in range(N_SIMULATIONS):\n",
    "    data = generate_samples(\n",
    "        mu_metric=20,\n",
    "        sigma_metric=10,\n",
    "        epsilon=2,\n",
    "        treatment_effect=REAL_ATE,\n",
    "        size=N_SAMPLES,\n",
    "        cov_mu_eps=[(-1,1),(-2,1),(5,5)],\n",
    "        non_linear=[False, False, True]\n",
    "    )\n",
    "\n",
    "    pre_analysis_data, analysis_data = split_and_preprocess(data, REAL_ATE)\n",
    "    ate_cupac.append(get_ate_cupac(analysis_data, pre_analysis_data, covariates=['Y_before', 'X_1', 'X_2', 'X_3']))\n",
    "    ate.append(analysis_data.loc[analysis_data['T']==1, 'Y'].mean() - analysis_data.loc[analysis_data['T']==0, 'Y'].mean())\n",
    "    ate_ols_cov.append(get_ate_ols(analysis_data, covariates=['Y_before', 'X_1', 'X_2', 'X_3']))\n",
    "    ate_cuped.append(get_ate_cuped(analysis_data))\n",
    "    ate_doubly_robust.append(get_ate_doubly_robust(analysis_data, covariates=['Y_before', 'X_1', 'X_2', 'X_3']))\n",
    "\n",
    "results = pd.DataFrame({\n",
    "    'mean_diff': ate,\n",
    "    'ols_cov_all': ate_ols_cov,\n",
    "    'cuped': ate_cuped,\n",
    "    'cupac': ate_cupac,\n",
    "    'doubly_robust': ate_doubly_robust,\n",
    "}).stack(level=0).reset_index(level=1, name='ATE').rename({'level_1': 'method'}, axis=1).reset_index(drop=True)\n",
    "errors = pd.DataFrame({\n",
    "    'mean_diff': (np.array(ate) - REAL_ATE)**2,\n",
    "    'ols_cov_all': (np.array(ate_ols_cov) - REAL_ATE)**2,\n",
    "    'cuped': (np.array(ate_cuped) - REAL_ATE)**2,\n",
    "    'cupac': (np.array(ate_cupac) - REAL_ATE)**2,\n",
    "    'doubly_robust': (np.array(ate_doubly_robust) - REAL_ATE)**2,\n",
    "}).stack(level=0).reset_index(level=1, name='ATE').rename({'level_1': 'method'}, axis=1).reset_index(drop=True)\n",
    "\n",
    "\n",
    "sns.displot(x='ATE',data=results, fill=True, kind='kde', hue='method', common_norm=False, alpha=.4, linewidth=0, bw_adjust=1.2);\n",
    "plt.vlines(REAL_ATE, plt.ylim()[0], plt.ylim()[1], linestyles=\"dashed\", label='ATE',colors='k');\n",
    "plt.show()\n",
    "errors.groupby('method').agg(mse=('ATE', 'mean')).reset_index()"
   ]
  }
 ],
 "metadata": {
  "kernelspec": {
   "display_name": "Python 3 (ipykernel)",
   "language": "python",
   "name": "python3"
  },
  "language_info": {
   "codemirror_mode": {
    "name": "ipython",
    "version": 3
   },
   "file_extension": ".py",
   "mimetype": "text/x-python",
   "name": "python",
   "nbconvert_exporter": "python",
   "pygments_lexer": "ipython3",
   "version": "3.8.6"
  },
  "vscode": {
   "interpreter": {
    "hash": "4bd47627eeb889cc051934ef213c8fff214b68c68756492f194bc0175ff32d48"
   }
  }
 },
 "nbformat": 4,
 "nbformat_minor": 5
}