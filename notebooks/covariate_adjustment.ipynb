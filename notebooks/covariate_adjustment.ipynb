{
 "cells": [
  {
   "cell_type": "code",
   "execution_count": 66,
   "id": "d34ae6e3-40cc-4274-920e-15160155b55e",
   "metadata": {},
   "outputs": [
    {
     "name": "stdout",
     "output_type": "stream",
     "text": [
      "The autoreload extension is already loaded. To reload it, use:\n",
      "  %reload_ext autoreload\n"
     ]
    }
   ],
   "source": [
    "import os\n",
    "import sys\n",
    "sys.path.append('src')\n",
    "import numpy as np\n",
    "\n",
    "from tqdm import tqdm\n",
    "from generator import generate_samples\n",
    "from utils import split_and_preprocess\n",
    "from adjustment_methods import (\n",
    "    get_ate_ols,\n",
    "    get_ate_cuped,\n",
    "    get_ate_cupac,\n",
    "    get_ate_doubly_robust,\n",
    "    get_ate_doubly_robust_wrong,\n",
    "    doubly_robust_matheus,\n",
    ")\n",
    "\n",
    "import seaborn as sns\n",
    "import pandas as pd\n",
    "import matplotlib.pyplot as plt\n",
    "\n",
    "%load_ext autoreload\n",
    "%autoreload 2"
   ]
  },
  {
   "cell_type": "markdown",
   "id": "3ea1cb0e-7dc9-4dce-9caf-4e52beac60d5",
   "metadata": {},
   "source": [
    "# Using the generator to generate some samples"
   ]
  },
  {
   "cell_type": "markdown",
   "id": "c007a5e3-2ddb-49be-882a-b496406b4c68",
   "metadata": {},
   "source": [
    "### With no covariates"
   ]
  },
  {
   "cell_type": "code",
   "execution_count": 67,
   "id": "290d2ca4-a8eb-48ba-9f54-02f24bf78e02",
   "metadata": {},
   "outputs": [
    {
     "data": {
      "text/html": [
       "<div>\n",
       "<style scoped>\n",
       "    .dataframe tbody tr th:only-of-type {\n",
       "        vertical-align: middle;\n",
       "    }\n",
       "\n",
       "    .dataframe tbody tr th {\n",
       "        vertical-align: top;\n",
       "    }\n",
       "\n",
       "    .dataframe thead th {\n",
       "        text-align: right;\n",
       "    }\n",
       "</style>\n",
       "<table border=\"1\" class=\"dataframe\">\n",
       "  <thead>\n",
       "    <tr style=\"text-align: right;\">\n",
       "      <th></th>\n",
       "      <th>Y</th>\n",
       "      <th>T</th>\n",
       "      <th>Y_before</th>\n",
       "      <th>R_1</th>\n",
       "    </tr>\n",
       "  </thead>\n",
       "  <tbody>\n",
       "    <tr>\n",
       "      <th>0</th>\n",
       "      <td>1.717709</td>\n",
       "      <td>0</td>\n",
       "      <td>4.164818</td>\n",
       "      <td>-1.485954</td>\n",
       "    </tr>\n",
       "    <tr>\n",
       "      <th>1</th>\n",
       "      <td>6.755605</td>\n",
       "      <td>0</td>\n",
       "      <td>5.642950</td>\n",
       "      <td>0.675301</td>\n",
       "    </tr>\n",
       "    <tr>\n",
       "      <th>2</th>\n",
       "      <td>4.907128</td>\n",
       "      <td>0</td>\n",
       "      <td>4.847138</td>\n",
       "      <td>0.732710</td>\n",
       "    </tr>\n",
       "    <tr>\n",
       "      <th>3</th>\n",
       "      <td>4.820693</td>\n",
       "      <td>0</td>\n",
       "      <td>5.830693</td>\n",
       "      <td>-0.367354</td>\n",
       "    </tr>\n",
       "    <tr>\n",
       "      <th>4</th>\n",
       "      <td>5.246950</td>\n",
       "      <td>0</td>\n",
       "      <td>4.485035</td>\n",
       "      <td>-0.772765</td>\n",
       "    </tr>\n",
       "    <tr>\n",
       "      <th>...</th>\n",
       "      <td>...</td>\n",
       "      <td>...</td>\n",
       "      <td>...</td>\n",
       "      <td>...</td>\n",
       "    </tr>\n",
       "    <tr>\n",
       "      <th>9995</th>\n",
       "      <td>3.337901</td>\n",
       "      <td>0</td>\n",
       "      <td>3.989631</td>\n",
       "      <td>-2.209024</td>\n",
       "    </tr>\n",
       "    <tr>\n",
       "      <th>9996</th>\n",
       "      <td>1.945809</td>\n",
       "      <td>0</td>\n",
       "      <td>3.355647</td>\n",
       "      <td>-0.969425</td>\n",
       "    </tr>\n",
       "    <tr>\n",
       "      <th>9997</th>\n",
       "      <td>1.728958</td>\n",
       "      <td>0</td>\n",
       "      <td>4.310035</td>\n",
       "      <td>0.785172</td>\n",
       "    </tr>\n",
       "    <tr>\n",
       "      <th>9998</th>\n",
       "      <td>4.246286</td>\n",
       "      <td>0</td>\n",
       "      <td>3.839939</td>\n",
       "      <td>-0.865403</td>\n",
       "    </tr>\n",
       "    <tr>\n",
       "      <th>9999</th>\n",
       "      <td>8.044196</td>\n",
       "      <td>0</td>\n",
       "      <td>4.501689</td>\n",
       "      <td>0.921350</td>\n",
       "    </tr>\n",
       "  </tbody>\n",
       "</table>\n",
       "<p>10000 rows × 4 columns</p>\n",
       "</div>"
      ],
      "text/plain": [
       "             Y  T  Y_before       R_1\n",
       "0     1.717709  0  4.164818 -1.485954\n",
       "1     6.755605  0  5.642950  0.675301\n",
       "2     4.907128  0  4.847138  0.732710\n",
       "3     4.820693  0  5.830693 -0.367354\n",
       "4     5.246950  0  4.485035 -0.772765\n",
       "...        ... ..       ...       ...\n",
       "9995  3.337901  0  3.989631 -2.209024\n",
       "9996  1.945809  0  3.355647 -0.969425\n",
       "9997  1.728958  0  4.310035  0.785172\n",
       "9998  4.246286  0  3.839939 -0.865403\n",
       "9999  8.044196  0  4.501689  0.921350\n",
       "\n",
       "[10000 rows x 4 columns]"
      ]
     },
     "execution_count": 67,
     "metadata": {},
     "output_type": "execute_result"
    }
   ],
   "source": [
    "data = generate_samples(\n",
    "    mu_metric=5,\n",
    "    sigma_metric=1,\n",
    "    epsilon=2,\n",
    "    treatment_effect=1,\n",
    "    size=10_000,\n",
    "    cov_mu_eps=[],\n",
    "    non_linear=[],\n",
    "    p_binomial=0.1,\n",
    "    seed=0,\n",
    ")\n",
    "data"
   ]
  },
  {
   "cell_type": "markdown",
   "id": "347e94df-b672-47b5-bbf8-3b0da94bac44",
   "metadata": {},
   "source": [
    "### With covariates"
   ]
  },
  {
   "cell_type": "code",
   "execution_count": 68,
   "id": "52463400-6919-4923-8a69-34fe1f30eba2",
   "metadata": {},
   "outputs": [
    {
     "data": {
      "text/html": [
       "<div>\n",
       "<style scoped>\n",
       "    .dataframe tbody tr th:only-of-type {\n",
       "        vertical-align: middle;\n",
       "    }\n",
       "\n",
       "    .dataframe tbody tr th {\n",
       "        vertical-align: top;\n",
       "    }\n",
       "\n",
       "    .dataframe thead th {\n",
       "        text-align: right;\n",
       "    }\n",
       "</style>\n",
       "<table border=\"1\" class=\"dataframe\">\n",
       "  <thead>\n",
       "    <tr style=\"text-align: right;\">\n",
       "      <th></th>\n",
       "      <th>Y</th>\n",
       "      <th>T</th>\n",
       "      <th>Y_before</th>\n",
       "      <th>X_1</th>\n",
       "      <th>X_2</th>\n",
       "      <th>X_3</th>\n",
       "      <th>R_1</th>\n",
       "    </tr>\n",
       "  </thead>\n",
       "  <tbody>\n",
       "    <tr>\n",
       "      <th>0</th>\n",
       "      <td>11.713374</td>\n",
       "      <td>0</td>\n",
       "      <td>6.255290</td>\n",
       "      <td>-1.231625</td>\n",
       "      <td>-2.041732</td>\n",
       "      <td>2.994389</td>\n",
       "      <td>-0.541784</td>\n",
       "    </tr>\n",
       "    <tr>\n",
       "      <th>1</th>\n",
       "      <td>1.333936</td>\n",
       "      <td>1</td>\n",
       "      <td>5.383194</td>\n",
       "      <td>-2.042249</td>\n",
       "      <td>-0.572580</td>\n",
       "      <td>1.009924</td>\n",
       "      <td>1.318836</td>\n",
       "    </tr>\n",
       "    <tr>\n",
       "      <th>2</th>\n",
       "      <td>21.619884</td>\n",
       "      <td>1</td>\n",
       "      <td>4.882116</td>\n",
       "      <td>-1.597580</td>\n",
       "      <td>-3.674115</td>\n",
       "      <td>4.689426</td>\n",
       "      <td>0.620458</td>\n",
       "    </tr>\n",
       "    <tr>\n",
       "      <th>3</th>\n",
       "      <td>116.566588</td>\n",
       "      <td>1</td>\n",
       "      <td>6.632311</td>\n",
       "      <td>-1.578616</td>\n",
       "      <td>-2.057696</td>\n",
       "      <td>10.480307</td>\n",
       "      <td>1.447373</td>\n",
       "    </tr>\n",
       "    <tr>\n",
       "      <th>4</th>\n",
       "      <td>18.820626</td>\n",
       "      <td>1</td>\n",
       "      <td>6.117096</td>\n",
       "      <td>0.088830</td>\n",
       "      <td>-1.686580</td>\n",
       "      <td>3.170425</td>\n",
       "      <td>0.396254</td>\n",
       "    </tr>\n",
       "    <tr>\n",
       "      <th>...</th>\n",
       "      <td>...</td>\n",
       "      <td>...</td>\n",
       "      <td>...</td>\n",
       "      <td>...</td>\n",
       "      <td>...</td>\n",
       "      <td>...</td>\n",
       "      <td>...</td>\n",
       "    </tr>\n",
       "    <tr>\n",
       "      <th>9995</th>\n",
       "      <td>19.245299</td>\n",
       "      <td>1</td>\n",
       "      <td>2.336245</td>\n",
       "      <td>-0.341360</td>\n",
       "      <td>-3.407202</td>\n",
       "      <td>4.119529</td>\n",
       "      <td>0.423050</td>\n",
       "    </tr>\n",
       "    <tr>\n",
       "      <th>9996</th>\n",
       "      <td>9.510129</td>\n",
       "      <td>0</td>\n",
       "      <td>7.111079</td>\n",
       "      <td>-1.994824</td>\n",
       "      <td>-0.650428</td>\n",
       "      <td>2.394617</td>\n",
       "      <td>-0.073036</td>\n",
       "    </tr>\n",
       "    <tr>\n",
       "      <th>9997</th>\n",
       "      <td>24.787707</td>\n",
       "      <td>1</td>\n",
       "      <td>4.021791</td>\n",
       "      <td>-3.218242</td>\n",
       "      <td>-0.852646</td>\n",
       "      <td>4.579803</td>\n",
       "      <td>-0.089729</td>\n",
       "    </tr>\n",
       "    <tr>\n",
       "      <th>9998</th>\n",
       "      <td>65.072293</td>\n",
       "      <td>0</td>\n",
       "      <td>4.295076</td>\n",
       "      <td>-1.230111</td>\n",
       "      <td>-2.063770</td>\n",
       "      <td>7.930710</td>\n",
       "      <td>1.240147</td>\n",
       "    </tr>\n",
       "    <tr>\n",
       "      <th>9999</th>\n",
       "      <td>63.877584</td>\n",
       "      <td>0</td>\n",
       "      <td>3.764441</td>\n",
       "      <td>-1.163319</td>\n",
       "      <td>-1.484982</td>\n",
       "      <td>7.901749</td>\n",
       "      <td>-0.035479</td>\n",
       "    </tr>\n",
       "  </tbody>\n",
       "</table>\n",
       "<p>10000 rows × 7 columns</p>\n",
       "</div>"
      ],
      "text/plain": [
       "               Y  T  Y_before       X_1       X_2        X_3       R_1\n",
       "0      11.713374  0  6.255290 -1.231625 -2.041732   2.994389 -0.541784\n",
       "1       1.333936  1  5.383194 -2.042249 -0.572580   1.009924  1.318836\n",
       "2      21.619884  1  4.882116 -1.597580 -3.674115   4.689426  0.620458\n",
       "3     116.566588  1  6.632311 -1.578616 -2.057696  10.480307  1.447373\n",
       "4      18.820626  1  6.117096  0.088830 -1.686580   3.170425  0.396254\n",
       "...          ... ..       ...       ...       ...        ...       ...\n",
       "9995   19.245299  1  2.336245 -0.341360 -3.407202   4.119529  0.423050\n",
       "9996    9.510129  0  7.111079 -1.994824 -0.650428   2.394617 -0.073036\n",
       "9997   24.787707  1  4.021791 -3.218242 -0.852646   4.579803 -0.089729\n",
       "9998   65.072293  0  4.295076 -1.230111 -2.063770   7.930710  1.240147\n",
       "9999   63.877584  0  3.764441 -1.163319 -1.484982   7.901749 -0.035479\n",
       "\n",
       "[10000 rows x 7 columns]"
      ]
     },
     "execution_count": 68,
     "metadata": {},
     "output_type": "execute_result"
    }
   ],
   "source": [
    "data = generate_samples(\n",
    "    mu_metric=5,\n",
    "    sigma_metric=1,\n",
    "    epsilon=2,\n",
    "    treatment_effect=2,\n",
    "    size=10_000,\n",
    "    cov_mu_eps=[(-1,1),(-2,1),(5,2)],\n",
    "    non_linear=[False, False, True],\n",
    "    p_binomial=0.5,\n",
    "    seed=0,\n",
    ")\n",
    "data"
   ]
  },
  {
   "cell_type": "markdown",
   "id": "5efd4e1d-2fdf-4a6f-9cec-b4fbbce04a14",
   "metadata": {},
   "source": [
    "# Getting a single ATE for this data"
   ]
  },
  {
   "cell_type": "code",
   "execution_count": 69,
   "id": "883d081e",
   "metadata": {},
   "outputs": [
    {
     "data": {
      "text/plain": [
       "(5000, 5000)"
      ]
     },
     "execution_count": 69,
     "metadata": {},
     "output_type": "execute_result"
    }
   ],
   "source": [
    "train_data, test_data = split_and_preprocess(data, treatment_effect=2)\n",
    "len(train_data), len(test_data)"
   ]
  },
  {
   "cell_type": "markdown",
   "id": "2c697e38-31aa-4ee0-870d-c8ff6e2f25e0",
   "metadata": {},
   "source": [
    "# Mean Diff"
   ]
  },
  {
   "cell_type": "code",
   "execution_count": 70,
   "id": "12d7cf9a-5a73-45de-99e3-c74612ac78b1",
   "metadata": {},
   "outputs": [
    {
     "data": {
      "text/plain": [
       "1.2496105681724359"
      ]
     },
     "execution_count": 70,
     "metadata": {},
     "output_type": "execute_result"
    }
   ],
   "source": [
    "test_data.loc[test_data['T']==1, 'Y'].mean() - test_data.loc[test_data['T']==0, 'Y'].mean()"
   ]
  },
  {
   "cell_type": "markdown",
   "id": "5f2722b8-40ba-480b-9b26-617711dcee76",
   "metadata": {},
   "source": [
    "### CUPED"
   ]
  },
  {
   "cell_type": "markdown",
   "id": "3625e9e0-27df-4b94-8cc8-d9991a6249f6",
   "metadata": {},
   "source": [
    "Only uses outcome pre experiment"
   ]
  },
  {
   "cell_type": "code",
   "execution_count": 71,
   "id": "bdae3555-fb9d-411c-bdc0-4e4e2fb55ae1",
   "metadata": {},
   "outputs": [
    {
     "data": {
      "text/plain": [
       "1.2444229268229705"
      ]
     },
     "execution_count": 71,
     "metadata": {},
     "output_type": "execute_result"
    }
   ],
   "source": [
    "get_ate_cuped(test_data)"
   ]
  },
  {
   "cell_type": "markdown",
   "id": "5a447abd-2f11-4fba-a9c8-36a013d2dfdc",
   "metadata": {},
   "source": [
    "### Multivariable regression"
   ]
  },
  {
   "cell_type": "code",
   "execution_count": 72,
   "id": "5356566a-c786-45af-b3ad-ee2d75e2d6db",
   "metadata": {},
   "outputs": [
    {
     "data": {
      "text/plain": [
       "1.7469319863798023"
      ]
     },
     "execution_count": 72,
     "metadata": {},
     "output_type": "execute_result"
    }
   ],
   "source": [
    "get_ate_ols(test_data, covariates=[\"Y_before\", \"X_1\", \"X_2\", \"X_3\"])"
   ]
  },
  {
   "cell_type": "markdown",
   "id": "1fd13d67-9bfe-4aa4-976a-6d4c4b0ddb77",
   "metadata": {},
   "source": [
    "### CUPAC"
   ]
  },
  {
   "cell_type": "code",
   "execution_count": 73,
   "id": "33923d6d",
   "metadata": {},
   "outputs": [
    {
     "data": {
      "text/plain": [
       "2.0120660099440677"
      ]
     },
     "execution_count": 73,
     "metadata": {},
     "output_type": "execute_result"
    }
   ],
   "source": [
    "get_ate_cupac(test_data, train_data, covariates=[\"Y_before\", \"X_1\", \"X_2\", \"X_3\"])"
   ]
  },
  {
   "cell_type": "markdown",
   "id": "97660539-c653-4614-aab4-ff5cdc4ba846",
   "metadata": {},
   "source": [
    "### Doubly Robust"
   ]
  },
  {
   "cell_type": "code",
   "execution_count": 74,
   "id": "1d4b5726",
   "metadata": {},
   "outputs": [
    {
     "name": "stderr",
     "output_type": "stream",
     "text": [
      "/Users/davidmasip/Documents/Workspace/covariate-adjustment-blogpost/src/adjustment_methods.py:46: FutureWarning: The default dtype for empty Series will be 'object' instead of 'float64' in a future version. Specify a dtype explicitly to silence this warning.\n",
      "  predictions_control = pd.Series(index=data.index)\n",
      "/Users/davidmasip/Documents/Workspace/covariate-adjustment-blogpost/src/adjustment_methods.py:47: FutureWarning: The default dtype for empty Series will be 'object' instead of 'float64' in a future version. Specify a dtype explicitly to silence this warning.\n",
      "  predictions_treatment = pd.Series(index=data.index)\n"
     ]
    },
    {
     "data": {
      "text/plain": [
       "1.9234027577181472"
      ]
     },
     "execution_count": 74,
     "metadata": {},
     "output_type": "execute_result"
    }
   ],
   "source": [
    "get_ate_doubly_robust(test_data, covariates=[\"Y_before\", \"X_1\", \"X_2\", \"X_3\"])"
   ]
  },
  {
   "cell_type": "markdown",
   "id": "1532aa92-8075-44db-9e1d-a6c362be6d89",
   "metadata": {},
   "source": [
    "## Simulating the experiment many times, supposing only linear effects"
   ]
  },
  {
   "cell_type": "markdown",
   "id": "0ea41aae-5999-403e-a4fb-2e5a03495816",
   "metadata": {},
   "source": [
    "$$\\epsilon \\sim N(0,2)$$\n",
    "$$Y_0 \\sim N(20,10)$$\n",
    "$$X_1 \\sim N(-1,-1)$$\n",
    "$$X_2 \\sim N(-2,1)$$\n",
    "$$X_3 \\sim N(5,5)$$\n",
    "\n",
    "$$Y = Y_0 + 0.1*T + X_1 + X_2 + X_3 + \\epsilon$$"
   ]
  },
  {
   "cell_type": "code",
   "execution_count": 76,
   "id": "10ee55b2",
   "metadata": {},
   "outputs": [
    {
     "name": "stderr",
     "output_type": "stream",
     "text": [
      "100%|██████████| 50/50 [03:33<00:00,  4.27s/it]\n"
     ]
    },
    {
     "data": {
      "image/png": "[encoded data removed]",
      "text/plain": [
       "<Figure size 716.125x500 with 1 Axes>"
      ]
     },
     "metadata": {},
     "output_type": "display_data"
    },
    {
     "data": {
      "text/html": [
       "<div>\n",
       "<style scoped>\n",
       "    .dataframe tbody tr th:only-of-type {\n",
       "        vertical-align: middle;\n",
       "    }\n",
       "\n",
       "    .dataframe tbody tr th {\n",
       "        vertical-align: top;\n",
       "    }\n",
       "\n",
       "    .dataframe thead th {\n",
       "        text-align: right;\n",
       "    }\n",
       "</style>\n",
       "<table border=\"1\" class=\"dataframe\">\n",
       "  <thead>\n",
       "    <tr style=\"text-align: right;\">\n",
       "      <th></th>\n",
       "      <th>method</th>\n",
       "      <th>mse</th>\n",
       "    </tr>\n",
       "  </thead>\n",
       "  <tbody>\n",
       "    <tr>\n",
       "      <th>0</th>\n",
       "      <td>cupac</td>\n",
       "      <td>0.002995</td>\n",
       "    </tr>\n",
       "    <tr>\n",
       "      <th>1</th>\n",
       "      <td>cuped</td>\n",
       "      <td>0.018276</td>\n",
       "    </tr>\n",
       "    <tr>\n",
       "      <th>2</th>\n",
       "      <td>doubly_robust</td>\n",
       "      <td>0.002815</td>\n",
       "    </tr>\n",
       "    <tr>\n",
       "      <th>3</th>\n",
       "      <td>doubly_robust_matheus</td>\n",
       "      <td>0.002384</td>\n",
       "    </tr>\n",
       "    <tr>\n",
       "      <th>4</th>\n",
       "      <td>mean_diff</td>\n",
       "      <td>0.108919</td>\n",
       "    </tr>\n",
       "    <tr>\n",
       "      <th>5</th>\n",
       "      <td>ols_cov_all</td>\n",
       "      <td>0.002653</td>\n",
       "    </tr>\n",
       "  </tbody>\n",
       "</table>\n",
       "</div>"
      ],
      "text/plain": [
       "                  method       mse\n",
       "0                  cupac  0.002995\n",
       "1                  cuped  0.018276\n",
       "2          doubly_robust  0.002815\n",
       "3  doubly_robust_matheus  0.002384\n",
       "4              mean_diff  0.108919\n",
       "5            ols_cov_all  0.002653"
      ]
     },
     "execution_count": 76,
     "metadata": {},
     "output_type": "execute_result"
    }
   ],
   "source": [
    "ate = []\n",
    "ate_cuped = []\n",
    "ate_ols_cov = []\n",
    "ate_cupac = []\n",
    "ate_doubly_robust = []\n",
    "ate_doubly_robust_wrong = []\n",
    "ate_doubly_robust_matheus = []\n",
    "\n",
    "N_SAMPLES = 10_000\n",
    "N_SIMULATIONS = 50\n",
    "REAL_ATE = 0.1\n",
    "\n",
    "for i in tqdm(range(N_SIMULATIONS)):\n",
    "    data = generate_samples(\n",
    "        mu_metric=20,\n",
    "        sigma_metric=10,\n",
    "        epsilon=2,\n",
    "        treatment_effect=REAL_ATE,\n",
    "        size=N_SAMPLES,\n",
    "        cov_mu_eps=[(-1,1),(-2,1),(5,5)],\n",
    "    )\n",
    "\n",
    "    pre_analysis_data, analysis_data = split_and_preprocess(data, REAL_ATE)\n",
    "    ate_cupac.append(get_ate_cupac(analysis_data, pre_analysis_data, covariates=['Y_before', 'X_1', 'X_2', 'X_3']))\n",
    "    ate.append(analysis_data.loc[analysis_data['T']==1, 'Y'].mean() - analysis_data.loc[analysis_data['T']==0, 'Y'].mean())\n",
    "    ate_ols_cov.append(get_ate_ols(analysis_data, covariates=['Y_before', 'X_1', 'X_2', 'X_3']))\n",
    "    ate_cuped.append(get_ate_cuped(analysis_data))\n",
    "    ate_doubly_robust.append(get_ate_doubly_robust(analysis_data, covariates=['Y_before', 'X_1', 'X_2', 'X_3']))\n",
    "    # ate_doubly_robust_wrong.append(get_ate_doubly_robust_wrong(analysis_data, covariates=['Y_before', 'X_1', 'X_2', 'X_3']))\n",
    "    ate_doubly_robust_matheus.append(doubly_robust_matheus(analysis_data, covariates=['Y_before', 'X_1', 'X_2', 'X_3']))\n",
    "\n",
    "results = pd.DataFrame({\n",
    "    'mean_diff': ate,\n",
    "    'ols_cov_all': ate_ols_cov,\n",
    "    'cuped': ate_cuped,\n",
    "    'cupac': ate_cupac,\n",
    "    'doubly_robust': ate_doubly_robust,\n",
    "    # 'doubly_robust_wrong': ate_doubly_robust_wrong,\n",
    "    'doubly_robust_matheus': ate_doubly_robust_matheus,\n",
    "}).stack(level=0).reset_index(level=1, name='ATE').rename({'level_1': 'method'}, axis=1).reset_index(drop=True)\n",
    "errors = pd.DataFrame({\n",
    "    'mean_diff': (np.array(ate) - REAL_ATE)**2,\n",
    "    'ols_cov_all': (np.array(ate_ols_cov) - REAL_ATE)**2,\n",
    "    'cuped': (np.array(ate_cuped) - REAL_ATE)**2,\n",
    "    'cupac': (np.array(ate_cupac) - REAL_ATE)**2,\n",
    "    'doubly_robust': (np.array(ate_doubly_robust) - REAL_ATE)**2,\n",
    "    # 'doubly_robust_wrong': (np.array(ate_doubly_robust_wrong) - REAL_ATE)**2,\n",
    "    'doubly_robust_matheus': (np.array(ate_doubly_robust_matheus) - REAL_ATE)**2,\n",
    "}).stack(level=0).reset_index(level=1, name='ATE').rename({'level_1': 'method'}, axis=1).reset_index(drop=True)\n",
    "\n",
    "\n",
    "sns.displot(x='ATE',data=results, fill=True, kind='kde', hue='method', common_norm=False, alpha=.4, linewidth=0, bw_adjust=1.2);\n",
    "plt.vlines(REAL_ATE, plt.ylim()[0], plt.ylim()[1], linestyles=\"dashed\", label='ATE',colors='k');\n",
    "plt.show()\n",
    "errors.groupby('method').agg(mse=('ATE', 'mean')).reset_index()"
   ]
  },
  {
   "cell_type": "code",
   "execution_count": null,
   "id": "bb0d1afd",
   "metadata": {},
   "outputs": [
    {
     "data": {
      "text/plain": [
       "1    2532\n",
       "0    2468\n",
       "Name: T, dtype: int64"
      ]
     },
     "execution_count": 12,
     "metadata": {},
     "output_type": "execute_result"
    }
   ],
   "source": [
    "# analysis_data['T'].value_counts()"
   ]
  },
  {
   "cell_type": "markdown",
   "id": "27f3423a-f428-4775-9770-f843f697ab3c",
   "metadata": {},
   "source": [
    "## Now simulating the same linear process, but using only a random variable as a covariate"
   ]
  },
  {
   "cell_type": "code",
   "execution_count": null,
   "id": "226f2937",
   "metadata": {},
   "outputs": [],
   "source": [
    "ate = []\n",
    "ate_cuped = []\n",
    "ate_ols_cov = []\n",
    "ate_cupac = []\n",
    "ate_doubly_robust = []\n",
    "\n",
    "N_SAMPLES = 100_000\n",
    "N_SIMULATIONS = 100\n",
    "REAL_ATE = 0.1\n",
    "\n",
    "for i in range(N_SIMULATIONS):\n",
    "    data = generate_samples(\n",
    "        mu_metric=20,\n",
    "        sigma_metric=10,\n",
    "        epsilon=2,\n",
    "        treatment_effect=REAL_ATE,\n",
    "        size=N_SAMPLES,\n",
    "        cov_mu_eps=[(-1,1),(-2,1),(5,2)],\n",
    "    )\n",
    "\n",
    "    pre_analysis_data, analysis_data = split_and_preprocess(data, REAL_ATE)\n",
    "    ate_cupac.append(get_ate_cupac(analysis_data, pre_analysis_data, covariates=['R_1']))\n",
    "    ate.append(analysis_data.loc[analysis_data['T']==1, 'Y'].mean() - analysis_data.loc[analysis_data['T']==0, 'Y'].mean())\n",
    "    ate_ols_cov.append(get_ate_ols(analysis_data, covariates=['R_1']))\n",
    "    ate_cuped.append(get_ate_cuped(analysis_data, prediction_column='R_1'))\n",
    "    ate_doubly_robust.append(get_ate_doubly_robust(analysis_data, covariates=['R_1']))\n",
    "\n",
    "results = pd.DataFrame({\n",
    "    'mean_diff': ate,\n",
    "    'ols_cov_all': ate_ols_cov,\n",
    "    'cuped': ate_cuped,\n",
    "    'cupac': ate_cupac,\n",
    "    'doubly_robust': ate_doubly_robust,\n",
    "}).stack(level=0).reset_index(level=1, name='ATE').rename({'level_1': 'method'}, axis=1).reset_index(drop=True)\n",
    "errors = pd.DataFrame({\n",
    "    'mean_diff': (np.array(ate) - REAL_ATE)**2,\n",
    "    'ols_cov_all': (np.array(ate_ols_cov) - REAL_ATE)**2,\n",
    "    'cuped': (np.array(ate_cuped) - REAL_ATE)**2,\n",
    "    'cupac': (np.array(ate_cupac) - REAL_ATE)**2,\n",
    "    'doubly_robust': (np.array(ate_doubly_robust) - REAL_ATE)**2,\n",
    "}).stack(level=0).reset_index(level=1, name='ATE').rename({'level_1': 'method'}, axis=1).reset_index(drop=True)\n",
    "\n",
    "\n",
    "sns.displot(x='ATE',data=results, fill=True, kind='kde', hue='method', common_norm=False, alpha=.4, linewidth=0, bw_adjust=1.2);\n",
    "plt.vlines(REAL_ATE, plt.ylim()[0], plt.ylim()[1], linestyles=\"dashed\", label='ATE',colors='k');\n",
    "plt.show()\n",
    "errors.groupby('method').agg(mse=('ATE', 'mean')).reset_index()"
   ]
  },
  {
   "cell_type": "markdown",
   "id": "2beb8c40-f688-4c56-9f48-12c1e6b264d7",
   "metadata": {},
   "source": [
    "## Simulating now with non-linear effects"
   ]
  },
  {
   "cell_type": "markdown",
   "id": "9ff49ad6-dbcb-4e78-9b35-2c8efe8dbcf8",
   "metadata": {},
   "source": [
    "$$\\epsilon \\sim N(0,2)$$\n",
    "$$Y_0 \\sim N(20,10)$$\n",
    "$$X_1 \\sim N(-1,-1)$$\n",
    "$$X_2 \\sim N(-2,1)$$\n",
    "$$X_3 \\sim N(5,5)$$\n",
    "\n",
    "$$Y = Y_0 + 0.1*T + X_1 + X_2 + X_3^2 + \\epsilon$$"
   ]
  },
  {
   "cell_type": "code",
   "execution_count": null,
   "id": "fa0da721-7f96-4394-8c3d-90487764683d",
   "metadata": {},
   "outputs": [],
   "source": [
    "ate = []\n",
    "ate_cuped = []\n",
    "ate_ols_cov = []\n",
    "ate_cupac = []\n",
    "ate_doubly_robust = []\n",
    "\n",
    "N_SAMPLES = 100_000\n",
    "N_SIMULATIONS = 100\n",
    "REAL_ATE = 0.1\n",
    "\n",
    "for i in range(N_SIMULATIONS):\n",
    "    data = generate_samples(\n",
    "        mu_metric=20,\n",
    "        sigma_metric=10,\n",
    "        epsilon=2,\n",
    "        treatment_effect=REAL_ATE,\n",
    "        size=N_SAMPLES,\n",
    "        cov_mu_eps=[(-1,1),(-2,1),(5,5)],\n",
    "        non_linear=[False, False, True]\n",
    "    )\n",
    "\n",
    "    pre_analysis_data, analysis_data = split_and_preprocess(data, REAL_ATE)\n",
    "    ate_cupac.append(get_ate_cupac(analysis_data, pre_analysis_data, covariates=['Y_before', 'X_1', 'X_2', 'X_3']))\n",
    "    ate.append(analysis_data.loc[analysis_data['T']==1, 'Y'].mean() - analysis_data.loc[analysis_data['T']==0, 'Y'].mean())\n",
    "    ate_ols_cov.append(get_ate_ols(analysis_data, covariates=['Y_before', 'X_1', 'X_2', 'X_3']))\n",
    "    ate_cuped.append(get_ate_cuped(analysis_data))\n",
    "    ate_doubly_robust.append(get_ate_doubly_robust(analysis_data, covariates=['Y_before', 'X_1', 'X_2', 'X_3']))\n",
    "\n",
    "results = pd.DataFrame({\n",
    "    'mean_diff': ate,\n",
    "    'ols_cov_all': ate_ols_cov,\n",
    "    'cuped': ate_cuped,\n",
    "    'cupac': ate_cupac,\n",
    "    'doubly_robust': ate_doubly_robust,\n",
    "}).stack(level=0).reset_index(level=1, name='ATE').rename({'level_1': 'method'}, axis=1).reset_index(drop=True)\n",
    "errors = pd.DataFrame({\n",
    "    'mean_diff': (np.array(ate) - REAL_ATE)**2,\n",
    "    'ols_cov_all': (np.array(ate_ols_cov) - REAL_ATE)**2,\n",
    "    'cuped': (np.array(ate_cuped) - REAL_ATE)**2,\n",
    "    'cupac': (np.array(ate_cupac) - REAL_ATE)**2,\n",
    "    'doubly_robust': (np.array(ate_doubly_robust) - REAL_ATE)**2,\n",
    "}).stack(level=0).reset_index(level=1, name='ATE').rename({'level_1': 'method'}, axis=1).reset_index(drop=True)\n",
    "\n",
    "\n",
    "sns.displot(x='ATE',data=results, fill=True, kind='kde', hue='method', common_norm=False, alpha=.4, linewidth=0, bw_adjust=1.2);\n",
    "plt.vlines(REAL_ATE, plt.ylim()[0], plt.ylim()[1], linestyles=\"dashed\", label='ATE',colors='k');\n",
    "plt.show()\n",
    "errors.groupby('method').agg(mse=('ATE', 'mean')).reset_index()"
   ]
  }
 ],
 "metadata": {
  "kernelspec": {
   "display_name": "Python 3.9.6 ('.venv': poetry)",
   "language": "python",
   "name": "python3"
  },
  "language_info": {
   "codemirror_mode": {
    "name": "ipython",
    "version": 3
   },
   "file_extension": ".py",
   "mimetype": "text/x-python",
   "name": "python",
   "nbconvert_exporter": "python",
   "pygments_lexer": "ipython3",
   "version": "3.9.6"
  },
  "vscode": {
   "interpreter": {
    "hash": "99abbe3f9297466779eb2e40f46393d970a1981febc6c01b4544c39c097bf36b"
   }
  }
 },
 "nbformat": 4,
 "nbformat_minor": 5
}
