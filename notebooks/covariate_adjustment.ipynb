{
 "cells": [
  {
   "cell_type": "code",
   "execution_count": 1,
   "id": "d34ae6e3-40cc-4274-920e-15160155b55e",
   "metadata": {},
   "outputs": [],
   "source": [
    "import os\n",
    "import sys\n",
    "sys.path.append('../src')\n",
    "import numpy as np\n",
    "\n",
    "from generator import generate_samples\n",
    "from utils import split_and_preprocess\n",
    "from adjustment_methods import (\n",
    "    get_ate_ols,\n",
    "    get_ate_cuped,\n",
    "    get_ate_cupac,\n",
    "    get_ate_doubly_robust,\n",
    ")\n",
    "\n",
    "import seaborn as sns\n",
    "import pandas as pd\n",
    "import matplotlib.pyplot as plt\n",
    "\n",
    "%load_ext autoreload\n",
    "%autoreload 2"
   ]
  },
  {
   "cell_type": "markdown",
   "id": "3ea1cb0e-7dc9-4dce-9caf-4e52beac60d5",
   "metadata": {},
   "source": [
    "# Using the generator to generate some samples"
   ]
  },
  {
   "cell_type": "markdown",
   "id": "c007a5e3-2ddb-49be-882a-b496406b4c68",
   "metadata": {},
   "source": [
    "### With no covariates"
   ]
  },
  {
   "cell_type": "code",
   "execution_count": 2,
   "id": "290d2ca4-a8eb-48ba-9f54-02f24bf78e02",
   "metadata": {},
   "outputs": [
    {
     "data": {
      "text/html": [
       "<div>\n",
       "<style scoped>\n",
       "    .dataframe tbody tr th:only-of-type {\n",
       "        vertical-align: middle;\n",
       "    }\n",
       "\n",
       "    .dataframe tbody tr th {\n",
       "        vertical-align: top;\n",
       "    }\n",
       "\n",
       "    .dataframe thead th {\n",
       "        text-align: right;\n",
       "    }\n",
       "</style>\n",
       "<table border=\"1\" class=\"dataframe\">\n",
       "  <thead>\n",
       "    <tr style=\"text-align: right;\">\n",
       "      <th></th>\n",
       "      <th>Y</th>\n",
       "      <th>T</th>\n",
       "      <th>Y_before</th>\n",
       "      <th>R_1</th>\n",
       "    </tr>\n",
       "  </thead>\n",
       "  <tbody>\n",
       "    <tr>\n",
       "      <th>0</th>\n",
       "      <td>11.380427</td>\n",
       "      <td>0</td>\n",
       "      <td>6.605055</td>\n",
       "      <td>-0.035140</td>\n",
       "    </tr>\n",
       "    <tr>\n",
       "      <th>1</th>\n",
       "      <td>4.032109</td>\n",
       "      <td>0</td>\n",
       "      <td>5.529775</td>\n",
       "      <td>0.599265</td>\n",
       "    </tr>\n",
       "    <tr>\n",
       "      <th>2</th>\n",
       "      <td>5.230410</td>\n",
       "      <td>0</td>\n",
       "      <td>5.131122</td>\n",
       "      <td>0.808710</td>\n",
       "    </tr>\n",
       "    <tr>\n",
       "      <th>3</th>\n",
       "      <td>7.496391</td>\n",
       "      <td>0</td>\n",
       "      <td>7.000880</td>\n",
       "      <td>0.470501</td>\n",
       "    </tr>\n",
       "    <tr>\n",
       "      <th>4</th>\n",
       "      <td>3.757591</td>\n",
       "      <td>0</td>\n",
       "      <td>5.150060</td>\n",
       "      <td>0.417555</td>\n",
       "    </tr>\n",
       "    <tr>\n",
       "      <th>...</th>\n",
       "      <td>...</td>\n",
       "      <td>...</td>\n",
       "      <td>...</td>\n",
       "      <td>...</td>\n",
       "    </tr>\n",
       "    <tr>\n",
       "      <th>9995</th>\n",
       "      <td>4.536001</td>\n",
       "      <td>0</td>\n",
       "      <td>6.248241</td>\n",
       "      <td>-0.557438</td>\n",
       "    </tr>\n",
       "    <tr>\n",
       "      <th>9996</th>\n",
       "      <td>4.528883</td>\n",
       "      <td>0</td>\n",
       "      <td>3.781479</td>\n",
       "      <td>0.854897</td>\n",
       "    </tr>\n",
       "    <tr>\n",
       "      <th>9997</th>\n",
       "      <td>6.560887</td>\n",
       "      <td>0</td>\n",
       "      <td>5.329774</td>\n",
       "      <td>0.306488</td>\n",
       "    </tr>\n",
       "    <tr>\n",
       "      <th>9998</th>\n",
       "      <td>3.388952</td>\n",
       "      <td>0</td>\n",
       "      <td>4.782307</td>\n",
       "      <td>2.669028</td>\n",
       "    </tr>\n",
       "    <tr>\n",
       "      <th>9999</th>\n",
       "      <td>5.336462</td>\n",
       "      <td>0</td>\n",
       "      <td>4.214827</td>\n",
       "      <td>1.327587</td>\n",
       "    </tr>\n",
       "  </tbody>\n",
       "</table>\n",
       "<p>10000 rows × 4 columns</p>\n",
       "</div>"
      ],
      "text/plain": [
       "              Y  T  Y_before       R_1\n",
       "0     11.380427  0  6.605055 -0.035140\n",
       "1      4.032109  0  5.529775  0.599265\n",
       "2      5.230410  0  5.131122  0.808710\n",
       "3      7.496391  0  7.000880  0.470501\n",
       "4      3.757591  0  5.150060  0.417555\n",
       "...         ... ..       ...       ...\n",
       "9995   4.536001  0  6.248241 -0.557438\n",
       "9996   4.528883  0  3.781479  0.854897\n",
       "9997   6.560887  0  5.329774  0.306488\n",
       "9998   3.388952  0  4.782307  2.669028\n",
       "9999   5.336462  0  4.214827  1.327587\n",
       "\n",
       "[10000 rows x 4 columns]"
      ]
     },
     "execution_count": 2,
     "metadata": {},
     "output_type": "execute_result"
    }
   ],
   "source": [
    "data = generate_samples(\n",
    "    mu_metric=5,\n",
    "    sigma_metric=1,\n",
    "    epsilon=2,\n",
    "    treatment_effect=1,\n",
    "    size=10_000,\n",
    "    cov_mu_eps=[],\n",
    "    non_linear=[],\n",
    "    p_binomial=0.1,\n",
    "    seed=0,\n",
    ")\n",
    "data"
   ]
  },
  {
   "cell_type": "markdown",
   "id": "347e94df-b672-47b5-bbf8-3b0da94bac44",
   "metadata": {},
   "source": [
    "### With covariates"
   ]
  },
  {
   "cell_type": "code",
   "execution_count": 3,
   "id": "52463400-6919-4923-8a69-34fe1f30eba2",
   "metadata": {},
   "outputs": [
    {
     "data": {
      "text/html": [
       "<div>\n",
       "<style scoped>\n",
       "    .dataframe tbody tr th:only-of-type {\n",
       "        vertical-align: middle;\n",
       "    }\n",
       "\n",
       "    .dataframe tbody tr th {\n",
       "        vertical-align: top;\n",
       "    }\n",
       "\n",
       "    .dataframe thead th {\n",
       "        text-align: right;\n",
       "    }\n",
       "</style>\n",
       "<table border=\"1\" class=\"dataframe\">\n",
       "  <thead>\n",
       "    <tr style=\"text-align: right;\">\n",
       "      <th></th>\n",
       "      <th>Y</th>\n",
       "      <th>T</th>\n",
       "      <th>Y_before</th>\n",
       "      <th>X_1</th>\n",
       "      <th>X_2</th>\n",
       "      <th>X_3</th>\n",
       "      <th>R_1</th>\n",
       "    </tr>\n",
       "  </thead>\n",
       "  <tbody>\n",
       "    <tr>\n",
       "      <th>0</th>\n",
       "      <td>48.469499</td>\n",
       "      <td>1</td>\n",
       "      <td>7.964820</td>\n",
       "      <td>-2.061821</td>\n",
       "      <td>-1.756592</td>\n",
       "      <td>6.583826</td>\n",
       "      <td>-0.449224</td>\n",
       "    </tr>\n",
       "    <tr>\n",
       "      <th>1</th>\n",
       "      <td>1.154787</td>\n",
       "      <td>1</td>\n",
       "      <td>3.004992</td>\n",
       "      <td>-0.907129</td>\n",
       "      <td>-1.440026</td>\n",
       "      <td>0.612036</td>\n",
       "      <td>0.531393</td>\n",
       "    </tr>\n",
       "    <tr>\n",
       "      <th>2</th>\n",
       "      <td>12.488405</td>\n",
       "      <td>1</td>\n",
       "      <td>7.638295</td>\n",
       "      <td>1.451140</td>\n",
       "      <td>-2.097670</td>\n",
       "      <td>2.559668</td>\n",
       "      <td>0.625694</td>\n",
       "    </tr>\n",
       "    <tr>\n",
       "      <th>3</th>\n",
       "      <td>22.951901</td>\n",
       "      <td>1</td>\n",
       "      <td>6.567111</td>\n",
       "      <td>-1.397279</td>\n",
       "      <td>-2.789222</td>\n",
       "      <td>4.398647</td>\n",
       "      <td>-0.773556</td>\n",
       "    </tr>\n",
       "    <tr>\n",
       "      <th>4</th>\n",
       "      <td>65.078769</td>\n",
       "      <td>0</td>\n",
       "      <td>6.258385</td>\n",
       "      <td>-1.382051</td>\n",
       "      <td>-0.698056</td>\n",
       "      <td>7.950057</td>\n",
       "      <td>-0.792803</td>\n",
       "    </tr>\n",
       "    <tr>\n",
       "      <th>...</th>\n",
       "      <td>...</td>\n",
       "      <td>...</td>\n",
       "      <td>...</td>\n",
       "      <td>...</td>\n",
       "      <td>...</td>\n",
       "      <td>...</td>\n",
       "      <td>...</td>\n",
       "    </tr>\n",
       "    <tr>\n",
       "      <th>9995</th>\n",
       "      <td>44.148529</td>\n",
       "      <td>1</td>\n",
       "      <td>3.564813</td>\n",
       "      <td>-2.951965</td>\n",
       "      <td>-0.844310</td>\n",
       "      <td>6.410688</td>\n",
       "      <td>-0.615025</td>\n",
       "    </tr>\n",
       "    <tr>\n",
       "      <th>9996</th>\n",
       "      <td>8.770673</td>\n",
       "      <td>1</td>\n",
       "      <td>7.087529</td>\n",
       "      <td>-0.662689</td>\n",
       "      <td>-2.220826</td>\n",
       "      <td>-0.211942</td>\n",
       "      <td>-1.994352</td>\n",
       "    </tr>\n",
       "    <tr>\n",
       "      <th>9997</th>\n",
       "      <td>45.200630</td>\n",
       "      <td>0</td>\n",
       "      <td>3.367927</td>\n",
       "      <td>-0.524764</td>\n",
       "      <td>0.783742</td>\n",
       "      <td>6.507693</td>\n",
       "      <td>-1.108641</td>\n",
       "    </tr>\n",
       "    <tr>\n",
       "      <th>9998</th>\n",
       "      <td>29.565161</td>\n",
       "      <td>0</td>\n",
       "      <td>5.249341</td>\n",
       "      <td>-1.844544</td>\n",
       "      <td>-3.448299</td>\n",
       "      <td>5.333336</td>\n",
       "      <td>1.700324</td>\n",
       "    </tr>\n",
       "    <tr>\n",
       "      <th>9999</th>\n",
       "      <td>28.627121</td>\n",
       "      <td>1</td>\n",
       "      <td>6.449467</td>\n",
       "      <td>-0.525302</td>\n",
       "      <td>-1.510197</td>\n",
       "      <td>4.625164</td>\n",
       "      <td>-0.310819</td>\n",
       "    </tr>\n",
       "  </tbody>\n",
       "</table>\n",
       "<p>10000 rows × 7 columns</p>\n",
       "</div>"
      ],
      "text/plain": [
       "              Y  T  Y_before       X_1       X_2       X_3       R_1\n",
       "0     48.469499  1  7.964820 -2.061821 -1.756592  6.583826 -0.449224\n",
       "1      1.154787  1  3.004992 -0.907129 -1.440026  0.612036  0.531393\n",
       "2     12.488405  1  7.638295  1.451140 -2.097670  2.559668  0.625694\n",
       "3     22.951901  1  6.567111 -1.397279 -2.789222  4.398647 -0.773556\n",
       "4     65.078769  0  6.258385 -1.382051 -0.698056  7.950057 -0.792803\n",
       "...         ... ..       ...       ...       ...       ...       ...\n",
       "9995  44.148529  1  3.564813 -2.951965 -0.844310  6.410688 -0.615025\n",
       "9996   8.770673  1  7.087529 -0.662689 -2.220826 -0.211942 -1.994352\n",
       "9997  45.200630  0  3.367927 -0.524764  0.783742  6.507693 -1.108641\n",
       "9998  29.565161  0  5.249341 -1.844544 -3.448299  5.333336  1.700324\n",
       "9999  28.627121  1  6.449467 -0.525302 -1.510197  4.625164 -0.310819\n",
       "\n",
       "[10000 rows x 7 columns]"
      ]
     },
     "execution_count": 3,
     "metadata": {},
     "output_type": "execute_result"
    }
   ],
   "source": [
    "data = generate_samples(\n",
    "    mu_metric=5,\n",
    "    sigma_metric=1,\n",
    "    epsilon=2,\n",
    "    treatment_effect=2,\n",
    "    size=10_000,\n",
    "    cov_mu_eps=[(-1,1),(-2,1),(5,2)],\n",
    "    non_linear=[False, False, True],\n",
    "    p_binomial=0.5,\n",
    "    seed=0,\n",
    ")\n",
    "data"
   ]
  },
  {
   "cell_type": "markdown",
   "id": "5efd4e1d-2fdf-4a6f-9cec-b4fbbce04a14",
   "metadata": {},
   "source": [
    "# Getting a single ATE for this data"
   ]
  },
  {
   "cell_type": "code",
   "execution_count": 4,
   "id": "883d081e",
   "metadata": {},
   "outputs": [
    {
     "data": {
      "text/plain": [
       "(5000, 5000)"
      ]
     },
     "execution_count": 4,
     "metadata": {},
     "output_type": "execute_result"
    }
   ],
   "source": [
    "train_data, test_data = split_and_preprocess(data, treatment_effect=2)\n",
    "len(train_data), len(test_data)"
   ]
  },
  {
   "cell_type": "markdown",
   "id": "2c697e38-31aa-4ee0-870d-c8ff6e2f25e0",
   "metadata": {},
   "source": [
    "# Mean Diff"
   ]
  },
  {
   "cell_type": "code",
   "execution_count": 5,
   "id": "12d7cf9a-5a73-45de-99e3-c74612ac78b1",
   "metadata": {},
   "outputs": [
    {
     "data": {
      "text/plain": [
       "1.550276523997777"
      ]
     },
     "execution_count": 5,
     "metadata": {},
     "output_type": "execute_result"
    }
   ],
   "source": [
    "test_data.loc[test_data['T']==1, 'Y'].mean() - test_data.loc[test_data['T']==0, 'Y'].mean()"
   ]
  },
  {
   "cell_type": "markdown",
   "id": "5f2722b8-40ba-480b-9b26-617711dcee76",
   "metadata": {},
   "source": [
    "### CUPED"
   ]
  },
  {
   "cell_type": "markdown",
   "id": "3625e9e0-27df-4b94-8cc8-d9991a6249f6",
   "metadata": {},
   "source": [
    "Only uses outcome pre experiment"
   ]
  },
  {
   "cell_type": "code",
   "execution_count": 6,
   "id": "bdae3555-fb9d-411c-bdc0-4e4e2fb55ae1",
   "metadata": {},
   "outputs": [
    {
     "data": {
      "text/plain": [
       "1.571561041408053"
      ]
     },
     "execution_count": 6,
     "metadata": {},
     "output_type": "execute_result"
    }
   ],
   "source": [
    "get_ate_cuped(test_data)"
   ]
  },
  {
   "cell_type": "markdown",
   "id": "5a447abd-2f11-4fba-a9c8-36a013d2dfdc",
   "metadata": {},
   "source": [
    "### Multivariable regression"
   ]
  },
  {
   "cell_type": "code",
   "execution_count": 7,
   "id": "5356566a-c786-45af-b3ad-ee2d75e2d6db",
   "metadata": {},
   "outputs": [
    {
     "data": {
      "text/plain": [
       "2.1296148785457265"
      ]
     },
     "execution_count": 7,
     "metadata": {},
     "output_type": "execute_result"
    }
   ],
   "source": [
    "get_ate_ols(test_data, covariates=[\"Y_before\", \"X_1\", \"X_2\", \"X_3\"])"
   ]
  },
  {
   "cell_type": "markdown",
   "id": "1fd13d67-9bfe-4aa4-976a-6d4c4b0ddb77",
   "metadata": {},
   "source": [
    "### CUPAC"
   ]
  },
  {
   "cell_type": "code",
   "execution_count": 8,
   "id": "33923d6d",
   "metadata": {},
   "outputs": [
    {
     "data": {
      "text/plain": [
       "1.9704798257851017"
      ]
     },
     "execution_count": 8,
     "metadata": {},
     "output_type": "execute_result"
    }
   ],
   "source": [
    "get_ate_cupac(test_data, train_data, covariates=[\"Y_before\", \"X_1\", \"X_2\", \"X_3\"])"
   ]
  },
  {
   "cell_type": "markdown",
   "id": "97660539-c653-4614-aab4-ff5cdc4ba846",
   "metadata": {},
   "source": [
    "### Doubly Robust"
   ]
  },
  {
   "cell_type": "code",
   "execution_count": 9,
   "id": "1d4b5726",
   "metadata": {},
   "outputs": [
    {
     "data": {
      "text/plain": [
       "1.940747315080742"
      ]
     },
     "execution_count": 9,
     "metadata": {},
     "output_type": "execute_result"
    }
   ],
   "source": [
    "get_ate_doubly_robust(test_data, covariates=[\"Y_before\", \"X_1\", \"X_2\", \"X_3\"])"
   ]
  },
  {
   "cell_type": "markdown",
   "id": "1532aa92-8075-44db-9e1d-a6c362be6d89",
   "metadata": {
    "tags": []
   },
   "source": [
    "## Simulating the experiment many times, supposing only linear effects"
   ]
  },
  {
   "cell_type": "markdown",
   "id": "0ea41aae-5999-403e-a4fb-2e5a03495816",
   "metadata": {},
   "source": [
    "$$\\epsilon \\sim N(0,2)$$\n",
    "$$Y_0 \\sim N(20,10)$$\n",
    "$$X_1 \\sim N(-1,-1)$$\n",
    "$$X_2 \\sim N(-2,1)$$\n",
    "$$X_3 \\sim N(5,5)$$\n",
    "\n",
    "$$Y = Y_0 + 0.1*T + X_1 + X_2 + X_3 + \\epsilon$$"
   ]
  },
  {
   "cell_type": "code",
   "execution_count": 10,
   "id": "10ee55b2",
   "metadata": {},
   "outputs": [
    {
     "data": {
      "image/png": "[encoded data removed]",
      "text/plain": [
       "<Figure size 713.25x500 with 1 Axes>"
      ]
     },
     "metadata": {},
     "output_type": "display_data"
    },
    {
     "data": {
      "text/html": [
       "<div>\n",
       "<style scoped>\n",
       "    .dataframe tbody tr th:only-of-type {\n",
       "        vertical-align: middle;\n",
       "    }\n",
       "\n",
       "    .dataframe tbody tr th {\n",
       "        vertical-align: top;\n",
       "    }\n",
       "\n",
       "    .dataframe thead th {\n",
       "        text-align: right;\n",
       "    }\n",
       "</style>\n",
       "<table border=\"1\" class=\"dataframe\">\n",
       "  <thead>\n",
       "    <tr style=\"text-align: right;\">\n",
       "      <th></th>\n",
       "      <th>method</th>\n",
       "      <th>mse</th>\n",
       "    </tr>\n",
       "  </thead>\n",
       "  <tbody>\n",
       "    <tr>\n",
       "      <th>0</th>\n",
       "      <td>CUPAC</td>\n",
       "      <td>0.000387</td>\n",
       "    </tr>\n",
       "    <tr>\n",
       "      <th>1</th>\n",
       "      <td>CUPED</td>\n",
       "      <td>0.002392</td>\n",
       "    </tr>\n",
       "    <tr>\n",
       "      <th>2</th>\n",
       "      <td>Doubly Robust</td>\n",
       "      <td>0.000348</td>\n",
       "    </tr>\n",
       "    <tr>\n",
       "      <th>3</th>\n",
       "      <td>Mean Diff</td>\n",
       "      <td>0.007675</td>\n",
       "    </tr>\n",
       "    <tr>\n",
       "      <th>4</th>\n",
       "      <td>Multivariate Regression</td>\n",
       "      <td>0.000341</td>\n",
       "    </tr>\n",
       "  </tbody>\n",
       "</table>\n",
       "</div>"
      ],
      "text/plain": [
       "                    method       mse\n",
       "0                    CUPAC  0.000387\n",
       "1                    CUPED  0.002392\n",
       "2            Doubly Robust  0.000348\n",
       "3                Mean Diff  0.007675\n",
       "4  Multivariate Regression  0.000341"
      ]
     },
     "execution_count": 10,
     "metadata": {},
     "output_type": "execute_result"
    }
   ],
   "source": [
    "ate = []\n",
    "ate_cuped = []\n",
    "ate_ols_cov = []\n",
    "ate_cupac = []\n",
    "ate_doubly_robust = []\n",
    "\n",
    "N_SAMPLES = 100_000\n",
    "N_SIMULATIONS = 100\n",
    "REAL_ATE = 0.1\n",
    "\n",
    "for i in range(N_SIMULATIONS):\n",
    "    data = generate_samples(\n",
    "        mu_metric=20,\n",
    "        sigma_metric=10,\n",
    "        epsilon=2,\n",
    "        treatment_effect=REAL_ATE,\n",
    "        size=N_SAMPLES,\n",
    "        cov_mu_eps=[(-1,1),(-2,1),(5,5)],\n",
    "    )\n",
    "\n",
    "    pre_analysis_data, analysis_data = split_and_preprocess(data, REAL_ATE)\n",
    "    ate_cupac.append(get_ate_cupac(analysis_data, pre_analysis_data, covariates=['Y_before', 'X_1', 'X_2', 'X_3']))\n",
    "    ate.append(analysis_data.loc[analysis_data['T']==1, 'Y'].mean() - analysis_data.loc[analysis_data['T']==0, 'Y'].mean())\n",
    "    ate_ols_cov.append(get_ate_ols(analysis_data, covariates=['Y_before', 'X_1', 'X_2', 'X_3']))\n",
    "    ate_cuped.append(get_ate_cuped(analysis_data))\n",
    "    ate_doubly_robust.append(get_ate_doubly_robust(analysis_data, covariates=['Y_before', 'X_1', 'X_2', 'X_3']))\n",
    "\n",
    "results = pd.DataFrame({\n",
    "    'Mean Diff': ate,\n",
    "    'Multivariate Regression': ate_ols_cov,\n",
    "    'CUPED': ate_cuped,\n",
    "    'CUPAC': ate_cupac,\n",
    "    'Doubly Robust': ate_doubly_robust,\n",
    "}).stack(level=0).reset_index(level=1, name='ATE').rename({'level_1': 'method'}, axis=1).reset_index(drop=True)\n",
    "errors = pd.DataFrame({\n",
    "    'Mean Diff': (np.array(ate) - REAL_ATE)**2,\n",
    "    'Multivariate Regression': (np.array(ate_ols_cov) - REAL_ATE)**2,\n",
    "    'CUPED': (np.array(ate_cuped) - REAL_ATE)**2,\n",
    "    'CUPAC': (np.array(ate_cupac) - REAL_ATE)**2,\n",
    "    'Doubly Robust': (np.array(ate_doubly_robust) - REAL_ATE)**2,\n",
    "}).stack(level=0).reset_index(level=1, name='ATE').rename({'level_1': 'method'}, axis=1).reset_index(drop=True)\n",
    "\n",
    "\n",
    "sns.displot(x='ATE',data=results, fill=False, kind='kde', hue='method', common_norm=False, linewidth=2, bw_adjust=1.2);\n",
    "plt.vlines(REAL_ATE, plt.ylim()[0], plt.ylim()[1], linestyles=\"dashed\", label='ATE',colors='k');\n",
    "plt.show()\n",
    "errors.groupby('method').agg(mse=('ATE', 'mean')).reset_index()"
   ]
  },
  {
   "cell_type": "markdown",
   "id": "27f3423a-f428-4775-9770-f843f697ab3c",
   "metadata": {},
   "source": [
    "## Now simulating the same linear process, but using only a random variable as a covariate"
   ]
  },
  {
   "cell_type": "code",
   "execution_count": 11,
   "id": "226f2937",
   "metadata": {},
   "outputs": [
    {
     "data": {
      "image/png": "[encoded data removed]",
      "text/plain": [
       "<Figure size 713.25x500 with 1 Axes>"
      ]
     },
     "metadata": {},
     "output_type": "display_data"
    },
    {
     "data": {
      "text/html": [
       "<div>\n",
       "<style scoped>\n",
       "    .dataframe tbody tr th:only-of-type {\n",
       "        vertical-align: middle;\n",
       "    }\n",
       "\n",
       "    .dataframe tbody tr th {\n",
       "        vertical-align: top;\n",
       "    }\n",
       "\n",
       "    .dataframe thead th {\n",
       "        text-align: right;\n",
       "    }\n",
       "</style>\n",
       "<table border=\"1\" class=\"dataframe\">\n",
       "  <thead>\n",
       "    <tr style=\"text-align: right;\">\n",
       "      <th></th>\n",
       "      <th>method</th>\n",
       "      <th>mse</th>\n",
       "    </tr>\n",
       "  </thead>\n",
       "  <tbody>\n",
       "    <tr>\n",
       "      <th>0</th>\n",
       "      <td>CUPAC</td>\n",
       "      <td>0.010336</td>\n",
       "    </tr>\n",
       "    <tr>\n",
       "      <th>1</th>\n",
       "      <td>CUPED</td>\n",
       "      <td>0.010392</td>\n",
       "    </tr>\n",
       "    <tr>\n",
       "      <th>2</th>\n",
       "      <td>Doubly Robust</td>\n",
       "      <td>0.010240</td>\n",
       "    </tr>\n",
       "    <tr>\n",
       "      <th>3</th>\n",
       "      <td>Mean Diff</td>\n",
       "      <td>0.010214</td>\n",
       "    </tr>\n",
       "    <tr>\n",
       "      <th>4</th>\n",
       "      <td>Multivariate Regression</td>\n",
       "      <td>0.010212</td>\n",
       "    </tr>\n",
       "  </tbody>\n",
       "</table>\n",
       "</div>"
      ],
      "text/plain": [
       "                    method       mse\n",
       "0                    CUPAC  0.010336\n",
       "1                    CUPED  0.010392\n",
       "2            Doubly Robust  0.010240\n",
       "3                Mean Diff  0.010214\n",
       "4  Multivariate Regression  0.010212"
      ]
     },
     "execution_count": 11,
     "metadata": {},
     "output_type": "execute_result"
    }
   ],
   "source": [
    "ate = []\n",
    "ate_cuped = []\n",
    "ate_ols_cov = []\n",
    "ate_cupac = []\n",
    "ate_doubly_robust = []\n",
    "\n",
    "N_SAMPLES = 100_000\n",
    "N_SIMULATIONS = 100\n",
    "REAL_ATE = 0.1\n",
    "\n",
    "for i in range(N_SIMULATIONS):\n",
    "    data = generate_samples(\n",
    "        mu_metric=20,\n",
    "        sigma_metric=10,\n",
    "        epsilon=2,\n",
    "        treatment_effect=REAL_ATE,\n",
    "        size=N_SAMPLES,\n",
    "        cov_mu_eps=[(-1,1),(-2,1),(5,2)],\n",
    "    )\n",
    "\n",
    "    pre_analysis_data, analysis_data = split_and_preprocess(data, REAL_ATE)\n",
    "    ate_cupac.append(get_ate_cupac(analysis_data, pre_analysis_data, covariates=['R_1']))\n",
    "    ate.append(analysis_data.loc[analysis_data['T']==1, 'Y'].mean() - analysis_data.loc[analysis_data['T']==0, 'Y'].mean())\n",
    "    ate_ols_cov.append(get_ate_ols(analysis_data, covariates=['R_1']))\n",
    "    ate_cuped.append(get_ate_cuped(analysis_data, prediction_column='R_1'))\n",
    "    ate_doubly_robust.append(get_ate_doubly_robust(analysis_data, covariates=['R_1']))\n",
    "\n",
    "results = pd.DataFrame({\n",
    "    'Mean Diff': ate,\n",
    "    'Multivariate Regression': ate_ols_cov,\n",
    "    'CUPED': ate_cuped,\n",
    "    'CUPAC': ate_cupac,\n",
    "    'Doubly Robust': ate_doubly_robust,\n",
    "}).stack(level=0).reset_index(level=1, name='ATE').rename({'level_1': 'method'}, axis=1).reset_index(drop=True)\n",
    "errors = pd.DataFrame({\n",
    "    'Mean Diff': (np.array(ate) - REAL_ATE)**2,\n",
    "    'Multivariate Regression': (np.array(ate_ols_cov) - REAL_ATE)**2,\n",
    "    'CUPED': (np.array(ate_cuped) - REAL_ATE)**2,\n",
    "    'CUPAC': (np.array(ate_cupac) - REAL_ATE)**2,\n",
    "    'Doubly Robust': (np.array(ate_doubly_robust) - REAL_ATE)**2,\n",
    "}).stack(level=0).reset_index(level=1, name='ATE').rename({'level_1': 'method'}, axis=1).reset_index(drop=True)\n",
    "\n",
    "\n",
    "sns.displot(x='ATE',data=results, fill=False, kind='kde', hue='method', common_norm=False, linewidth=2, bw_adjust=1.2);\n",
    "plt.vlines(REAL_ATE, plt.ylim()[0], plt.ylim()[1], linestyles=\"dashed\", label='ATE',colors='k');\n",
    "plt.show()\n",
    "errors.groupby('method').agg(mse=('ATE', 'mean')).reset_index()"
   ]
  },
  {
   "cell_type": "markdown",
   "id": "2beb8c40-f688-4c56-9f48-12c1e6b264d7",
   "metadata": {},
   "source": [
    "## Simulating now with non-linear effects"
   ]
  },
  {
   "cell_type": "markdown",
   "id": "9ff49ad6-dbcb-4e78-9b35-2c8efe8dbcf8",
   "metadata": {},
   "source": [
    "$$\\epsilon \\sim N(0,2)$$\n",
    "$$Y_0 \\sim N(20,10)$$\n",
    "$$X_1 \\sim N(-1,-1)$$\n",
    "$$X_2 \\sim N(-2,1)$$\n",
    "$$X_3 \\sim N(5,5)$$\n",
    "\n",
    "$$Y = Y_0 + 0.1*T + X_1 + X_2 + X_3^2 + \\epsilon$$"
   ]
  },
  {
   "cell_type": "code",
   "execution_count": 12,
   "id": "fa0da721-7f96-4394-8c3d-90487764683d",
   "metadata": {},
   "outputs": [
    {
     "data": {
      "image/png": "[encoded data removed]",
      "text/plain": [
       "<Figure size 713.25x500 with 1 Axes>"
      ]
     },
     "metadata": {},
     "output_type": "display_data"
    },
    {
     "data": {
      "text/html": [
       "<div>\n",
       "<style scoped>\n",
       "    .dataframe tbody tr th:only-of-type {\n",
       "        vertical-align: middle;\n",
       "    }\n",
       "\n",
       "    .dataframe tbody tr th {\n",
       "        vertical-align: top;\n",
       "    }\n",
       "\n",
       "    .dataframe thead th {\n",
       "        text-align: right;\n",
       "    }\n",
       "</style>\n",
       "<table border=\"1\" class=\"dataframe\">\n",
       "  <thead>\n",
       "    <tr style=\"text-align: right;\">\n",
       "      <th></th>\n",
       "      <th>method</th>\n",
       "      <th>mse</th>\n",
       "    </tr>\n",
       "  </thead>\n",
       "  <tbody>\n",
       "    <tr>\n",
       "      <th>0</th>\n",
       "      <td>CUPAC</td>\n",
       "      <td>0.002434</td>\n",
       "    </tr>\n",
       "    <tr>\n",
       "      <th>1</th>\n",
       "      <td>CUPED</td>\n",
       "      <td>0.282346</td>\n",
       "    </tr>\n",
       "    <tr>\n",
       "      <th>2</th>\n",
       "      <td>Doubly Robust</td>\n",
       "      <td>0.002341</td>\n",
       "    </tr>\n",
       "    <tr>\n",
       "      <th>3</th>\n",
       "      <td>Mean Diff</td>\n",
       "      <td>0.275358</td>\n",
       "    </tr>\n",
       "    <tr>\n",
       "      <th>4</th>\n",
       "      <td>Multivariate Regression</td>\n",
       "      <td>0.075689</td>\n",
       "    </tr>\n",
       "  </tbody>\n",
       "</table>\n",
       "</div>"
      ],
      "text/plain": [
       "                    method       mse\n",
       "0                    CUPAC  0.002434\n",
       "1                    CUPED  0.282346\n",
       "2            Doubly Robust  0.002341\n",
       "3                Mean Diff  0.275358\n",
       "4  Multivariate Regression  0.075689"
      ]
     },
     "execution_count": 12,
     "metadata": {},
     "output_type": "execute_result"
    }
   ],
   "source": [
    "ate = []\n",
    "ate_cuped = []\n",
    "ate_ols_cov = []\n",
    "ate_cupac = []\n",
    "ate_doubly_robust = []\n",
    "\n",
    "N_SAMPLES = 100_000\n",
    "N_SIMULATIONS = 100\n",
    "REAL_ATE = 0.1\n",
    "\n",
    "for i in range(N_SIMULATIONS):\n",
    "    data = generate_samples(\n",
    "        mu_metric=20,\n",
    "        sigma_metric=10,\n",
    "        epsilon=2,\n",
    "        treatment_effect=REAL_ATE,\n",
    "        size=N_SAMPLES,\n",
    "        cov_mu_eps=[(-1,1),(-2,1),(5,5)],\n",
    "        non_linear=[False, False, True]\n",
    "    )\n",
    "\n",
    "    pre_analysis_data, analysis_data = split_and_preprocess(data, REAL_ATE)\n",
    "    ate_cupac.append(get_ate_cupac(analysis_data, pre_analysis_data, covariates=['Y_before', 'X_1', 'X_2', 'X_3']))\n",
    "    ate.append(analysis_data.loc[analysis_data['T']==1, 'Y'].mean() - analysis_data.loc[analysis_data['T']==0, 'Y'].mean())\n",
    "    ate_ols_cov.append(get_ate_ols(analysis_data, covariates=['Y_before', 'X_1', 'X_2', 'X_3']))\n",
    "    ate_cuped.append(get_ate_cuped(analysis_data))\n",
    "    ate_doubly_robust.append(get_ate_doubly_robust(analysis_data, covariates=['Y_before', 'X_1', 'X_2', 'X_3']))\n",
    "\n",
    "results = pd.DataFrame({\n",
    "    'Mean Diff': ate,\n",
    "    'Multivariate Regression': ate_ols_cov,\n",
    "    'CUPED': ate_cuped,\n",
    "    'CUPAC': ate_cupac,\n",
    "    'Doubly Robust': ate_doubly_robust,\n",
    "}).stack(level=0).reset_index(level=1, name='ATE').rename({'level_1': 'method'}, axis=1).reset_index(drop=True)\n",
    "errors = pd.DataFrame({\n",
    "    'Mean Diff': (np.array(ate) - REAL_ATE)**2,\n",
    "    'Multivariate Regression': (np.array(ate_ols_cov) - REAL_ATE)**2,\n",
    "    'CUPED': (np.array(ate_cuped) - REAL_ATE)**2,\n",
    "    'CUPAC': (np.array(ate_cupac) - REAL_ATE)**2,\n",
    "    'Doubly Robust': (np.array(ate_doubly_robust) - REAL_ATE)**2,\n",
    "}).stack(level=0).reset_index(level=1, name='ATE').rename({'level_1': 'method'}, axis=1).reset_index(drop=True)\n",
    "\n",
    "\n",
    "sns.displot(x='ATE',data=results, fill=False, kind='kde', hue='method', common_norm=False, linewidth=2, bw_adjust=1.2);\n",
    "plt.vlines(REAL_ATE, plt.ylim()[0], plt.ylim()[1], linestyles=\"dashed\", label='ATE',colors='k');\n",
    "plt.show()\n",
    "errors.groupby('method').agg(mse=('ATE', 'mean')).reset_index()"
   ]
  }
 ],
 "metadata": {
  "kernelspec": {
   "display_name": "Python 3 (ipykernel)",
   "language": "python",
   "name": "python3"
  },
  "language_info": {
   "codemirror_mode": {
    "name": "ipython",
    "version": 3
   },
   "file_extension": ".py",
   "mimetype": "text/x-python",
   "name": "python",
   "nbconvert_exporter": "python",
   "pygments_lexer": "ipython3",
   "version": "3.8.6"
  },
  "vscode": {
   "interpreter": {
    "hash": "4bd47627eeb889cc051934ef213c8fff214b68c68756492f194bc0175ff32d48"
   }
  }
 },
 "nbformat": 4,
 "nbformat_minor": 5
}