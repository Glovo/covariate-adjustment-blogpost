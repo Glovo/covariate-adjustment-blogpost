{
 "cells": [
  {
   "cell_type": "code",
   "execution_count": 11,
   "id": "d34ae6e3-40cc-4274-920e-15160155b55e",
   "metadata": {},
   "outputs": [
    {
     "name": "stdout",
     "output_type": "stream",
     "text": [
      "The autoreload extension is already loaded. To reload it, use:\n",
      "  %reload_ext autoreload\n"
     ]
    }
   ],
   "source": [
    "import os\n",
    "import sys\n",
    "sys.path.append('../src')\n",
    "import numpy as np\n",
    "\n",
    "from generator import generate_samples\n",
    "from utils import split_and_preprocess\n",
    "from adjustment_methods import (\n",
    "    get_ate_ols,\n",
    "    get_ate_cuped,\n",
    "    get_ate_cupac,\n",
    "    get_ate_doubly_robust,\n",
    ")\n",
    "\n",
    "import seaborn as sns\n",
    "import pandas as pd\n",
    "import matplotlib.pyplot as plt\n",
    "\n",
    "%load_ext autoreload\n",
    "%autoreload 2"
   ]
  },
  {
   "cell_type": "markdown",
   "id": "3ea1cb0e-7dc9-4dce-9caf-4e52beac60d5",
   "metadata": {},
   "source": [
    "# Using the generator to generate some samples"
   ]
  },
  {
   "cell_type": "markdown",
   "id": "c007a5e3-2ddb-49be-882a-b496406b4c68",
   "metadata": {},
   "source": [
    "### With no covariates"
   ]
  },
  {
   "cell_type": "code",
   "execution_count": 12,
   "id": "290d2ca4-a8eb-48ba-9f54-02f24bf78e02",
   "metadata": {},
   "outputs": [
    {
     "data": {
      "text/html": [
       "<div>\n",
       "<style scoped>\n",
       "    .dataframe tbody tr th:only-of-type {\n",
       "        vertical-align: middle;\n",
       "    }\n",
       "\n",
       "    .dataframe tbody tr th {\n",
       "        vertical-align: top;\n",
       "    }\n",
       "\n",
       "    .dataframe thead th {\n",
       "        text-align: right;\n",
       "    }\n",
       "</style>\n",
       "<table border=\"1\" class=\"dataframe\">\n",
       "  <thead>\n",
       "    <tr style=\"text-align: right;\">\n",
       "      <th></th>\n",
       "      <th>Y</th>\n",
       "      <th>T</th>\n",
       "      <th>Y_before</th>\n",
       "      <th>R_1</th>\n",
       "    </tr>\n",
       "  </thead>\n",
       "  <tbody>\n",
       "    <tr>\n",
       "      <th>0</th>\n",
       "      <td>6.527356</td>\n",
       "      <td>0</td>\n",
       "      <td>5.460076</td>\n",
       "      <td>-0.187331</td>\n",
       "    </tr>\n",
       "    <tr>\n",
       "      <th>1</th>\n",
       "      <td>5.214514</td>\n",
       "      <td>1</td>\n",
       "      <td>3.790229</td>\n",
       "      <td>-0.568764</td>\n",
       "    </tr>\n",
       "    <tr>\n",
       "      <th>2</th>\n",
       "      <td>4.966742</td>\n",
       "      <td>0</td>\n",
       "      <td>3.648757</td>\n",
       "      <td>0.412930</td>\n",
       "    </tr>\n",
       "    <tr>\n",
       "      <th>3</th>\n",
       "      <td>5.794092</td>\n",
       "      <td>0</td>\n",
       "      <td>3.633204</td>\n",
       "      <td>-1.485097</td>\n",
       "    </tr>\n",
       "    <tr>\n",
       "      <th>4</th>\n",
       "      <td>5.285567</td>\n",
       "      <td>0</td>\n",
       "      <td>5.014823</td>\n",
       "      <td>1.642086</td>\n",
       "    </tr>\n",
       "    <tr>\n",
       "      <th>...</th>\n",
       "      <td>...</td>\n",
       "      <td>...</td>\n",
       "      <td>...</td>\n",
       "      <td>...</td>\n",
       "    </tr>\n",
       "    <tr>\n",
       "      <th>9995</th>\n",
       "      <td>4.710937</td>\n",
       "      <td>0</td>\n",
       "      <td>5.364423</td>\n",
       "      <td>-2.743185</td>\n",
       "    </tr>\n",
       "    <tr>\n",
       "      <th>9996</th>\n",
       "      <td>12.048095</td>\n",
       "      <td>0</td>\n",
       "      <td>5.112235</td>\n",
       "      <td>0.360046</td>\n",
       "    </tr>\n",
       "    <tr>\n",
       "      <th>9997</th>\n",
       "      <td>4.082669</td>\n",
       "      <td>0</td>\n",
       "      <td>5.142005</td>\n",
       "      <td>0.613257</td>\n",
       "    </tr>\n",
       "    <tr>\n",
       "      <th>9998</th>\n",
       "      <td>7.930163</td>\n",
       "      <td>0</td>\n",
       "      <td>5.232795</td>\n",
       "      <td>-0.009023</td>\n",
       "    </tr>\n",
       "    <tr>\n",
       "      <th>9999</th>\n",
       "      <td>5.334719</td>\n",
       "      <td>1</td>\n",
       "      <td>6.095692</td>\n",
       "      <td>-2.461051</td>\n",
       "    </tr>\n",
       "  </tbody>\n",
       "</table>\n",
       "<p>10000 rows × 4 columns</p>\n",
       "</div>"
      ],
      "text/plain": [
       "              Y  T  Y_before       R_1\n",
       "0      6.527356  0  5.460076 -0.187331\n",
       "1      5.214514  1  3.790229 -0.568764\n",
       "2      4.966742  0  3.648757  0.412930\n",
       "3      5.794092  0  3.633204 -1.485097\n",
       "4      5.285567  0  5.014823  1.642086\n",
       "...         ... ..       ...       ...\n",
       "9995   4.710937  0  5.364423 -2.743185\n",
       "9996  12.048095  0  5.112235  0.360046\n",
       "9997   4.082669  0  5.142005  0.613257\n",
       "9998   7.930163  0  5.232795 -0.009023\n",
       "9999   5.334719  1  6.095692 -2.461051\n",
       "\n",
       "[10000 rows x 4 columns]"
      ]
     },
     "execution_count": 12,
     "metadata": {},
     "output_type": "execute_result"
    }
   ],
   "source": [
    "data = generate_samples(\n",
    "    mu_metric=5,\n",
    "    sigma_metric=1,\n",
    "    epsilon=2,\n",
    "    treatment_effect=1,\n",
    "    size=10_000,\n",
    "    cov_mu_eps=[],\n",
    "    non_linear=[],\n",
    "    p_binomial=0.1,\n",
    "    seed=0,\n",
    ")\n",
    "data"
   ]
  },
  {
   "cell_type": "markdown",
   "id": "347e94df-b672-47b5-bbf8-3b0da94bac44",
   "metadata": {},
   "source": [
    "### With covariates"
   ]
  },
  {
   "cell_type": "code",
   "execution_count": 13,
   "id": "52463400-6919-4923-8a69-34fe1f30eba2",
   "metadata": {},
   "outputs": [
    {
     "data": {
      "text/html": [
       "<div>\n",
       "<style scoped>\n",
       "    .dataframe tbody tr th:only-of-type {\n",
       "        vertical-align: middle;\n",
       "    }\n",
       "\n",
       "    .dataframe tbody tr th {\n",
       "        vertical-align: top;\n",
       "    }\n",
       "\n",
       "    .dataframe thead th {\n",
       "        text-align: right;\n",
       "    }\n",
       "</style>\n",
       "<table border=\"1\" class=\"dataframe\">\n",
       "  <thead>\n",
       "    <tr style=\"text-align: right;\">\n",
       "      <th></th>\n",
       "      <th>Y</th>\n",
       "      <th>T</th>\n",
       "      <th>Y_before</th>\n",
       "      <th>X_1</th>\n",
       "      <th>X_2</th>\n",
       "      <th>X_3</th>\n",
       "      <th>R_1</th>\n",
       "    </tr>\n",
       "  </thead>\n",
       "  <tbody>\n",
       "    <tr>\n",
       "      <th>0</th>\n",
       "      <td>10.652106</td>\n",
       "      <td>0</td>\n",
       "      <td>4.266313</td>\n",
       "      <td>0.191957</td>\n",
       "      <td>-1.763622</td>\n",
       "      <td>2.776427</td>\n",
       "      <td>0.723661</td>\n",
       "    </tr>\n",
       "    <tr>\n",
       "      <th>1</th>\n",
       "      <td>28.291109</td>\n",
       "      <td>1</td>\n",
       "      <td>4.012173</td>\n",
       "      <td>-0.419272</td>\n",
       "      <td>-1.498237</td>\n",
       "      <td>4.870046</td>\n",
       "      <td>0.128917</td>\n",
       "    </tr>\n",
       "    <tr>\n",
       "      <th>2</th>\n",
       "      <td>38.195960</td>\n",
       "      <td>0</td>\n",
       "      <td>4.890613</td>\n",
       "      <td>-1.151834</td>\n",
       "      <td>-4.205427</td>\n",
       "      <td>6.279805</td>\n",
       "      <td>-0.174498</td>\n",
       "    </tr>\n",
       "    <tr>\n",
       "      <th>3</th>\n",
       "      <td>20.459232</td>\n",
       "      <td>1</td>\n",
       "      <td>5.382098</td>\n",
       "      <td>-3.264159</td>\n",
       "      <td>-4.321669</td>\n",
       "      <td>4.568285</td>\n",
       "      <td>-0.609975</td>\n",
       "    </tr>\n",
       "    <tr>\n",
       "      <th>4</th>\n",
       "      <td>33.735483</td>\n",
       "      <td>0</td>\n",
       "      <td>5.006805</td>\n",
       "      <td>-1.020055</td>\n",
       "      <td>-1.779481</td>\n",
       "      <td>5.384873</td>\n",
       "      <td>-0.667309</td>\n",
       "    </tr>\n",
       "    <tr>\n",
       "      <th>...</th>\n",
       "      <td>...</td>\n",
       "      <td>...</td>\n",
       "      <td>...</td>\n",
       "      <td>...</td>\n",
       "      <td>...</td>\n",
       "      <td>...</td>\n",
       "      <td>...</td>\n",
       "    </tr>\n",
       "    <tr>\n",
       "      <th>9995</th>\n",
       "      <td>21.268036</td>\n",
       "      <td>1</td>\n",
       "      <td>2.767599</td>\n",
       "      <td>-1.138728</td>\n",
       "      <td>-1.956217</td>\n",
       "      <td>4.503508</td>\n",
       "      <td>-0.194357</td>\n",
       "    </tr>\n",
       "    <tr>\n",
       "      <th>9996</th>\n",
       "      <td>14.566230</td>\n",
       "      <td>1</td>\n",
       "      <td>3.630337</td>\n",
       "      <td>-1.379941</td>\n",
       "      <td>-1.200647</td>\n",
       "      <td>3.597359</td>\n",
       "      <td>-1.496386</td>\n",
       "    </tr>\n",
       "    <tr>\n",
       "      <th>9997</th>\n",
       "      <td>16.306194</td>\n",
       "      <td>1</td>\n",
       "      <td>3.233966</td>\n",
       "      <td>-2.236512</td>\n",
       "      <td>-1.909526</td>\n",
       "      <td>3.708555</td>\n",
       "      <td>-0.325130</td>\n",
       "    </tr>\n",
       "    <tr>\n",
       "      <th>9998</th>\n",
       "      <td>22.282606</td>\n",
       "      <td>0</td>\n",
       "      <td>6.734815</td>\n",
       "      <td>-0.049832</td>\n",
       "      <td>-2.781651</td>\n",
       "      <td>4.467106</td>\n",
       "      <td>-0.138784</td>\n",
       "    </tr>\n",
       "    <tr>\n",
       "      <th>9999</th>\n",
       "      <td>49.439057</td>\n",
       "      <td>1</td>\n",
       "      <td>5.670208</td>\n",
       "      <td>-0.875786</td>\n",
       "      <td>-2.048924</td>\n",
       "      <td>6.736638</td>\n",
       "      <td>-0.060165</td>\n",
       "    </tr>\n",
       "  </tbody>\n",
       "</table>\n",
       "<p>10000 rows × 7 columns</p>\n",
       "</div>"
      ],
      "text/plain": [
       "              Y  T  Y_before       X_1       X_2       X_3       R_1\n",
       "0     10.652106  0  4.266313  0.191957 -1.763622  2.776427  0.723661\n",
       "1     28.291109  1  4.012173 -0.419272 -1.498237  4.870046  0.128917\n",
       "2     38.195960  0  4.890613 -1.151834 -4.205427  6.279805 -0.174498\n",
       "3     20.459232  1  5.382098 -3.264159 -4.321669  4.568285 -0.609975\n",
       "4     33.735483  0  5.006805 -1.020055 -1.779481  5.384873 -0.667309\n",
       "...         ... ..       ...       ...       ...       ...       ...\n",
       "9995  21.268036  1  2.767599 -1.138728 -1.956217  4.503508 -0.194357\n",
       "9996  14.566230  1  3.630337 -1.379941 -1.200647  3.597359 -1.496386\n",
       "9997  16.306194  1  3.233966 -2.236512 -1.909526  3.708555 -0.325130\n",
       "9998  22.282606  0  6.734815 -0.049832 -2.781651  4.467106 -0.138784\n",
       "9999  49.439057  1  5.670208 -0.875786 -2.048924  6.736638 -0.060165\n",
       "\n",
       "[10000 rows x 7 columns]"
      ]
     },
     "execution_count": 13,
     "metadata": {},
     "output_type": "execute_result"
    }
   ],
   "source": [
    "data = generate_samples(\n",
    "    mu_metric=5,\n",
    "    sigma_metric=1,\n",
    "    epsilon=2,\n",
    "    treatment_effect=2,\n",
    "    size=10_000,\n",
    "    cov_mu_eps=[(-1,1),(-2,1),(5,2)],\n",
    "    non_linear=[False, False, True],\n",
    "    p_binomial=0.5,\n",
    "    seed=0,\n",
    ")\n",
    "data"
   ]
  },
  {
   "cell_type": "markdown",
   "id": "5efd4e1d-2fdf-4a6f-9cec-b4fbbce04a14",
   "metadata": {},
   "source": [
    "# Getting a single ATE for this data"
   ]
  },
  {
   "cell_type": "code",
   "execution_count": 14,
   "id": "883d081e",
   "metadata": {},
   "outputs": [
    {
     "data": {
      "text/plain": [
       "(5000, 5000)"
      ]
     },
     "execution_count": 14,
     "metadata": {},
     "output_type": "execute_result"
    }
   ],
   "source": [
    "train_data, test_data = split_and_preprocess(data, treatment_effect=2)\n",
    "len(train_data), len(test_data)"
   ]
  },
  {
   "cell_type": "markdown",
   "id": "2c697e38-31aa-4ee0-870d-c8ff6e2f25e0",
   "metadata": {},
   "source": [
    "# Mean Diff"
   ]
  },
  {
   "cell_type": "code",
   "execution_count": 15,
   "id": "12d7cf9a-5a73-45de-99e3-c74612ac78b1",
   "metadata": {},
   "outputs": [
    {
     "data": {
      "text/plain": [
       "2.0564593282397396"
      ]
     },
     "execution_count": 15,
     "metadata": {},
     "output_type": "execute_result"
    }
   ],
   "source": [
    "test_data.loc[test_data['T']==1, 'Y'].mean() - test_data.loc[test_data['T']==0, 'Y'].mean()"
   ]
  },
  {
   "cell_type": "markdown",
   "id": "5f2722b8-40ba-480b-9b26-617711dcee76",
   "metadata": {},
   "source": [
    "### CUPED"
   ]
  },
  {
   "cell_type": "markdown",
   "id": "3625e9e0-27df-4b94-8cc8-d9991a6249f6",
   "metadata": {},
   "source": [
    "Only uses outcome pre experiment"
   ]
  },
  {
   "cell_type": "code",
   "execution_count": 16,
   "id": "bdae3555-fb9d-411c-bdc0-4e4e2fb55ae1",
   "metadata": {},
   "outputs": [
    {
     "data": {
      "text/plain": [
       "2.0384995741562513"
      ]
     },
     "execution_count": 16,
     "metadata": {},
     "output_type": "execute_result"
    }
   ],
   "source": [
    "get_ate_cuped(test_data)"
   ]
  },
  {
   "cell_type": "markdown",
   "id": "5a447abd-2f11-4fba-a9c8-36a013d2dfdc",
   "metadata": {},
   "source": [
    "### Multivariable regression"
   ]
  },
  {
   "cell_type": "code",
   "execution_count": 17,
   "id": "5356566a-c786-45af-b3ad-ee2d75e2d6db",
   "metadata": {},
   "outputs": [
    {
     "data": {
      "text/plain": [
       "2.054476609053416"
      ]
     },
     "execution_count": 17,
     "metadata": {},
     "output_type": "execute_result"
    }
   ],
   "source": [
    "get_ate_ols(test_data, covariates=[\"Y_before\", \"X_1\", \"X_2\", \"X_3\"])"
   ]
  },
  {
   "cell_type": "markdown",
   "id": "1fd13d67-9bfe-4aa4-976a-6d4c4b0ddb77",
   "metadata": {},
   "source": [
    "### CUPAC"
   ]
  },
  {
   "cell_type": "code",
   "execution_count": 18,
   "id": "33923d6d",
   "metadata": {},
   "outputs": [
    {
     "data": {
      "text/plain": [
       "1.9479159970566222"
      ]
     },
     "execution_count": 18,
     "metadata": {},
     "output_type": "execute_result"
    }
   ],
   "source": [
    "get_ate_cupac(test_data, train_data, covariates=[\"Y_before\", \"X_1\", \"X_2\", \"X_3\"])"
   ]
  },
  {
   "cell_type": "markdown",
   "id": "97660539-c653-4614-aab4-ff5cdc4ba846",
   "metadata": {},
   "source": [
    "### Doubly Robust"
   ]
  },
  {
   "cell_type": "code",
   "execution_count": 19,
   "id": "1d4b5726",
   "metadata": {},
   "outputs": [
    {
     "data": {
      "text/plain": [
       "2.039234184376177"
      ]
     },
     "execution_count": 19,
     "metadata": {},
     "output_type": "execute_result"
    }
   ],
   "source": [
    "get_ate_doubly_robust(test_data, covariates=[\"Y_before\", \"X_1\", \"X_2\", \"X_3\"])"
   ]
  },
  {
   "cell_type": "markdown",
   "id": "1532aa92-8075-44db-9e1d-a6c362be6d89",
   "metadata": {},
   "source": [
    "## Simulating the experiment many times, supposing only linear effects"
   ]
  },
  {
   "cell_type": "markdown",
   "id": "0ea41aae-5999-403e-a4fb-2e5a03495816",
   "metadata": {},
   "source": [
    "$$\\epsilon \\sim N(0,2)$$\n",
    "$$Y_0 \\sim N(20,10)$$\n",
    "$$X_1 \\sim N(-1,-1)$$\n",
    "$$X_2 \\sim N(-2,1)$$\n",
    "$$X_3 \\sim N(5,5)$$\n",
    "\n",
    "$$Y = Y_0 + 0.1*T + X_1 + X_2 + X_3 + \\epsilon$$"
   ]
  },
  {
   "cell_type": "code",
   "execution_count": 20,
   "id": "10ee55b2",
   "metadata": {},
   "outputs": [
    {
     "data": {
      "image/png": "[encoded data removed]",
      "text/plain": [
       "<Figure size 648.375x500 with 1 Axes>"
      ]
     },
     "metadata": {},
     "output_type": "display_data"
    },
    {
     "data": {
      "text/html": [
       "<div>\n",
       "<style scoped>\n",
       "    .dataframe tbody tr th:only-of-type {\n",
       "        vertical-align: middle;\n",
       "    }\n",
       "\n",
       "    .dataframe tbody tr th {\n",
       "        vertical-align: top;\n",
       "    }\n",
       "\n",
       "    .dataframe thead th {\n",
       "        text-align: right;\n",
       "    }\n",
       "</style>\n",
       "<table border=\"1\" class=\"dataframe\">\n",
       "  <thead>\n",
       "    <tr style=\"text-align: right;\">\n",
       "      <th></th>\n",
       "      <th>method</th>\n",
       "      <th>mse</th>\n",
       "    </tr>\n",
       "  </thead>\n",
       "  <tbody>\n",
       "    <tr>\n",
       "      <th>0</th>\n",
       "      <td>cupac</td>\n",
       "      <td>0.000392</td>\n",
       "    </tr>\n",
       "    <tr>\n",
       "      <th>1</th>\n",
       "      <td>cuped</td>\n",
       "      <td>0.002638</td>\n",
       "    </tr>\n",
       "    <tr>\n",
       "      <th>2</th>\n",
       "      <td>doubly_robust</td>\n",
       "      <td>0.000375</td>\n",
       "    </tr>\n",
       "    <tr>\n",
       "      <th>3</th>\n",
       "      <td>mean_diff</td>\n",
       "      <td>0.010566</td>\n",
       "    </tr>\n",
       "    <tr>\n",
       "      <th>4</th>\n",
       "      <td>ols_cov_all</td>\n",
       "      <td>0.000362</td>\n",
       "    </tr>\n",
       "  </tbody>\n",
       "</table>\n",
       "</div>"
      ],
      "text/plain": [
       "          method       mse\n",
       "0          cupac  0.000392\n",
       "1          cuped  0.002638\n",
       "2  doubly_robust  0.000375\n",
       "3      mean_diff  0.010566\n",
       "4    ols_cov_all  0.000362"
      ]
     },
     "execution_count": 20,
     "metadata": {},
     "output_type": "execute_result"
    }
   ],
   "source": [
    "ate = []\n",
    "ate_cuped = []\n",
    "ate_ols_cov = []\n",
    "ate_cupac = []\n",
    "ate_doubly_robust = []\n",
    "\n",
    "N_SAMPLES = 100_000\n",
    "N_SIMULATIONS = 100\n",
    "REAL_ATE = 0.1\n",
    "\n",
    "for i in range(N_SIMULATIONS):\n",
    "    data = generate_samples(\n",
    "        mu_metric=20,\n",
    "        sigma_metric=10,\n",
    "        epsilon=2,\n",
    "        treatment_effect=REAL_ATE,\n",
    "        size=N_SAMPLES,\n",
    "        cov_mu_eps=[(-1,1),(-2,1),(5,5)],\n",
    "    )\n",
    "\n",
    "    pre_analysis_data, analysis_data = split_and_preprocess(data, REAL_ATE)\n",
    "    ate_cupac.append(get_ate_cupac(analysis_data, pre_analysis_data, covariates=['Y_before', 'X_1', 'X_2', 'X_3']))\n",
    "    ate.append(analysis_data.loc[analysis_data['T']==1, 'Y'].mean() - analysis_data.loc[analysis_data['T']==0, 'Y'].mean())\n",
    "    ate_ols_cov.append(get_ate_ols(analysis_data, covariates=['Y_before', 'X_1', 'X_2', 'X_3']))\n",
    "    ate_cuped.append(get_ate_cuped(analysis_data))\n",
    "    ate_doubly_robust.append(get_ate_doubly_robust(analysis_data, covariates=['Y_before', 'X_1', 'X_2', 'X_3']))\n",
    "\n",
    "results = pd.DataFrame({\n",
    "    'mean_diff': ate,\n",
    "    'ols_cov_all': ate_ols_cov,\n",
    "    'cuped': ate_cuped,\n",
    "    'cupac': ate_cupac,\n",
    "    'doubly_robust': ate_doubly_robust,\n",
    "}).stack(level=0).reset_index(level=1, name='ATE').rename({'level_1': 'method'}, axis=1).reset_index(drop=True)\n",
    "errors = pd.DataFrame({\n",
    "    'mean_diff': (np.array(ate) - REAL_ATE)**2,\n",
    "    'ols_cov_all': (np.array(ate_ols_cov) - REAL_ATE)**2,\n",
    "    'cuped': (np.array(ate_cuped) - REAL_ATE)**2,\n",
    "    'cupac': (np.array(ate_cupac) - REAL_ATE)**2,\n",
    "    'doubly_robust': (np.array(ate_doubly_robust) - REAL_ATE)**2,\n",
    "}).stack(level=0).reset_index(level=1, name='ATE').rename({'level_1': 'method'}, axis=1).reset_index(drop=True)\n",
    "\n",
    "\n",
    "sns.displot(x='ATE',data=results, fill=True, kind='kde', hue='method', common_norm=False, alpha=.4, linewidth=0, bw_adjust=1.2);\n",
    "plt.vlines(REAL_ATE, plt.ylim()[0], plt.ylim()[1], linestyles=\"dashed\", label='ATE',colors='k');\n",
    "plt.show()\n",
    "errors.groupby('method').agg(mse=('ATE', 'mean')).reset_index()"
   ]
  },
  {
   "cell_type": "markdown",
   "id": "27f3423a-f428-4775-9770-f843f697ab3c",
   "metadata": {},
   "source": [
    "## Now simulating the same linear process, but using only a random variable as a covariate"
   ]
  },
  {
   "cell_type": "code",
   "execution_count": 21,
   "id": "226f2937",
   "metadata": {},
   "outputs": [
    {
     "data": {
      "image/png": "[encoded data removed]",
      "text/plain": [
       "<Figure size 648.375x500 with 1 Axes>"
      ]
     },
     "metadata": {},
     "output_type": "display_data"
    },
    {
     "data": {
      "text/html": [
       "<div>\n",
       "<style scoped>\n",
       "    .dataframe tbody tr th:only-of-type {\n",
       "        vertical-align: middle;\n",
       "    }\n",
       "\n",
       "    .dataframe tbody tr th {\n",
       "        vertical-align: top;\n",
       "    }\n",
       "\n",
       "    .dataframe thead th {\n",
       "        text-align: right;\n",
       "    }\n",
       "</style>\n",
       "<table border=\"1\" class=\"dataframe\">\n",
       "  <thead>\n",
       "    <tr style=\"text-align: right;\">\n",
       "      <th></th>\n",
       "      <th>method</th>\n",
       "      <th>mse</th>\n",
       "    </tr>\n",
       "  </thead>\n",
       "  <tbody>\n",
       "    <tr>\n",
       "      <th>0</th>\n",
       "      <td>cupac</td>\n",
       "      <td>0.007752</td>\n",
       "    </tr>\n",
       "    <tr>\n",
       "      <th>1</th>\n",
       "      <td>cuped</td>\n",
       "      <td>0.008032</td>\n",
       "    </tr>\n",
       "    <tr>\n",
       "      <th>2</th>\n",
       "      <td>doubly_robust</td>\n",
       "      <td>0.007681</td>\n",
       "    </tr>\n",
       "    <tr>\n",
       "      <th>3</th>\n",
       "      <td>mean_diff</td>\n",
       "      <td>0.007700</td>\n",
       "    </tr>\n",
       "    <tr>\n",
       "      <th>4</th>\n",
       "      <td>ols_cov_all</td>\n",
       "      <td>0.007705</td>\n",
       "    </tr>\n",
       "  </tbody>\n",
       "</table>\n",
       "</div>"
      ],
      "text/plain": [
       "          method       mse\n",
       "0          cupac  0.007752\n",
       "1          cuped  0.008032\n",
       "2  doubly_robust  0.007681\n",
       "3      mean_diff  0.007700\n",
       "4    ols_cov_all  0.007705"
      ]
     },
     "execution_count": 21,
     "metadata": {},
     "output_type": "execute_result"
    }
   ],
   "source": [
    "ate = []\n",
    "ate_cuped = []\n",
    "ate_ols_cov = []\n",
    "ate_cupac = []\n",
    "ate_doubly_robust = []\n",
    "\n",
    "N_SAMPLES = 100_000\n",
    "N_SIMULATIONS = 100\n",
    "REAL_ATE = 0.1\n",
    "\n",
    "for i in range(N_SIMULATIONS):\n",
    "    data = generate_samples(\n",
    "        mu_metric=20,\n",
    "        sigma_metric=10,\n",
    "        epsilon=2,\n",
    "        treatment_effect=REAL_ATE,\n",
    "        size=N_SAMPLES,\n",
    "        cov_mu_eps=[(-1,1),(-2,1),(5,2)],\n",
    "    )\n",
    "\n",
    "    pre_analysis_data, analysis_data = split_and_preprocess(data, REAL_ATE)\n",
    "    ate_cupac.append(get_ate_cupac(analysis_data, pre_analysis_data, covariates=['R_1']))\n",
    "    ate.append(analysis_data.loc[analysis_data['T']==1, 'Y'].mean() - analysis_data.loc[analysis_data['T']==0, 'Y'].mean())\n",
    "    ate_ols_cov.append(get_ate_ols(analysis_data, covariates=['R_1']))\n",
    "    ate_cuped.append(get_ate_cuped(analysis_data, prediction_column='R_1'))\n",
    "    ate_doubly_robust.append(get_ate_doubly_robust(analysis_data, covariates=['R_1']))\n",
    "\n",
    "results = pd.DataFrame({\n",
    "    'mean_diff': ate,\n",
    "    'ols_cov_all': ate_ols_cov,\n",
    "    'cuped': ate_cuped,\n",
    "    'cupac': ate_cupac,\n",
    "    'doubly_robust': ate_doubly_robust,\n",
    "}).stack(level=0).reset_index(level=1, name='ATE').rename({'level_1': 'method'}, axis=1).reset_index(drop=True)\n",
    "errors = pd.DataFrame({\n",
    "    'mean_diff': (np.array(ate) - REAL_ATE)**2,\n",
    "    'ols_cov_all': (np.array(ate_ols_cov) - REAL_ATE)**2,\n",
    "    'cuped': (np.array(ate_cuped) - REAL_ATE)**2,\n",
    "    'cupac': (np.array(ate_cupac) - REAL_ATE)**2,\n",
    "    'doubly_robust': (np.array(ate_doubly_robust) - REAL_ATE)**2,\n",
    "}).stack(level=0).reset_index(level=1, name='ATE').rename({'level_1': 'method'}, axis=1).reset_index(drop=True)\n",
    "\n",
    "\n",
    "sns.displot(x='ATE',data=results, fill=True, kind='kde', hue='method', common_norm=False, alpha=.4, linewidth=0, bw_adjust=1.2);\n",
    "plt.vlines(REAL_ATE, plt.ylim()[0], plt.ylim()[1], linestyles=\"dashed\", label='ATE',colors='k');\n",
    "plt.show()\n",
    "errors.groupby('method').agg(mse=('ATE', 'mean')).reset_index()"
   ]
  },
  {
   "cell_type": "markdown",
   "id": "2beb8c40-f688-4c56-9f48-12c1e6b264d7",
   "metadata": {},
   "source": [
    "## Simulating now with non-linear effects"
   ]
  },
  {
   "cell_type": "markdown",
   "id": "9ff49ad6-dbcb-4e78-9b35-2c8efe8dbcf8",
   "metadata": {},
   "source": [
    "$$\\epsilon \\sim N(0,2)$$\n",
    "$$Y_0 \\sim N(20,10)$$\n",
    "$$X_1 \\sim N(-1,-1)$$\n",
    "$$X_2 \\sim N(-2,1)$$\n",
    "$$X_3 \\sim N(5,5)$$\n",
    "\n",
    "$$Y = Y_0 + 0.1*T + X_1 + X_2 + X_3^2 + \\epsilon$$"
   ]
  },
  {
   "cell_type": "code",
   "execution_count": 22,
   "id": "fa0da721-7f96-4394-8c3d-90487764683d",
   "metadata": {},
   "outputs": [
    {
     "data": {
      "image/png": "[encoded data removed]",
      "text/plain": [
       "<Figure size 648.375x500 with 1 Axes>"
      ]
     },
     "metadata": {},
     "output_type": "display_data"
    },
    {
     "data": {
      "text/html": [
       "<div>\n",
       "<style scoped>\n",
       "    .dataframe tbody tr th:only-of-type {\n",
       "        vertical-align: middle;\n",
       "    }\n",
       "\n",
       "    .dataframe tbody tr th {\n",
       "        vertical-align: top;\n",
       "    }\n",
       "\n",
       "    .dataframe thead th {\n",
       "        text-align: right;\n",
       "    }\n",
       "</style>\n",
       "<table border=\"1\" class=\"dataframe\">\n",
       "  <thead>\n",
       "    <tr style=\"text-align: right;\">\n",
       "      <th></th>\n",
       "      <th>method</th>\n",
       "      <th>mse</th>\n",
       "    </tr>\n",
       "  </thead>\n",
       "  <tbody>\n",
       "    <tr>\n",
       "      <th>0</th>\n",
       "      <td>cupac</td>\n",
       "      <td>0.002084</td>\n",
       "    </tr>\n",
       "    <tr>\n",
       "      <th>1</th>\n",
       "      <td>cuped</td>\n",
       "      <td>0.224097</td>\n",
       "    </tr>\n",
       "    <tr>\n",
       "      <th>2</th>\n",
       "      <td>doubly_robust</td>\n",
       "      <td>0.001827</td>\n",
       "    </tr>\n",
       "    <tr>\n",
       "      <th>3</th>\n",
       "      <td>mean_diff</td>\n",
       "      <td>0.235074</td>\n",
       "    </tr>\n",
       "    <tr>\n",
       "      <th>4</th>\n",
       "      <td>ols_cov_all</td>\n",
       "      <td>0.109270</td>\n",
       "    </tr>\n",
       "  </tbody>\n",
       "</table>\n",
       "</div>"
      ],
      "text/plain": [
       "          method       mse\n",
       "0          cupac  0.002084\n",
       "1          cuped  0.224097\n",
       "2  doubly_robust  0.001827\n",
       "3      mean_diff  0.235074\n",
       "4    ols_cov_all  0.109270"
      ]
     },
     "execution_count": 22,
     "metadata": {},
     "output_type": "execute_result"
    }
   ],
   "source": [
    "ate = []\n",
    "ate_cuped = []\n",
    "ate_ols_cov = []\n",
    "ate_cupac = []\n",
    "ate_doubly_robust = []\n",
    "\n",
    "N_SAMPLES = 100_000\n",
    "N_SIMULATIONS = 100\n",
    "REAL_ATE = 0.1\n",
    "\n",
    "for i in range(N_SIMULATIONS):\n",
    "    data = generate_samples(\n",
    "        mu_metric=20,\n",
    "        sigma_metric=10,\n",
    "        epsilon=2,\n",
    "        treatment_effect=REAL_ATE,\n",
    "        size=N_SAMPLES,\n",
    "        cov_mu_eps=[(-1,1),(-2,1),(5,5)],\n",
    "        non_linear=[False, False, True]\n",
    "    )\n",
    "\n",
    "    pre_analysis_data, analysis_data = split_and_preprocess(data, REAL_ATE)\n",
    "    ate_cupac.append(get_ate_cupac(analysis_data, pre_analysis_data, covariates=['Y_before', 'X_1', 'X_2', 'X_3']))\n",
    "    ate.append(analysis_data.loc[analysis_data['T']==1, 'Y'].mean() - analysis_data.loc[analysis_data['T']==0, 'Y'].mean())\n",
    "    ate_ols_cov.append(get_ate_ols(analysis_data, covariates=['Y_before', 'X_1', 'X_2', 'X_3']))\n",
    "    ate_cuped.append(get_ate_cuped(analysis_data))\n",
    "    ate_doubly_robust.append(get_ate_doubly_robust(analysis_data, covariates=['Y_before', 'X_1', 'X_2', 'X_3']))\n",
    "\n",
    "results = pd.DataFrame({\n",
    "    'mean_diff': ate,\n",
    "    'ols_cov_all': ate_ols_cov,\n",
    "    'cuped': ate_cuped,\n",
    "    'cupac': ate_cupac,\n",
    "    'doubly_robust': ate_doubly_robust,\n",
    "}).stack(level=0).reset_index(level=1, name='ATE').rename({'level_1': 'method'}, axis=1).reset_index(drop=True)\n",
    "errors = pd.DataFrame({\n",
    "    'mean_diff': (np.array(ate) - REAL_ATE)**2,\n",
    "    'ols_cov_all': (np.array(ate_ols_cov) - REAL_ATE)**2,\n",
    "    'cuped': (np.array(ate_cuped) - REAL_ATE)**2,\n",
    "    'cupac': (np.array(ate_cupac) - REAL_ATE)**2,\n",
    "    'doubly_robust': (np.array(ate_doubly_robust) - REAL_ATE)**2,\n",
    "}).stack(level=0).reset_index(level=1, name='ATE').rename({'level_1': 'method'}, axis=1).reset_index(drop=True)\n",
    "\n",
    "\n",
    "sns.displot(x='ATE',data=results, fill=True, kind='kde', hue='method', common_norm=False, alpha=.4, linewidth=0, bw_adjust=1.2);\n",
    "plt.vlines(REAL_ATE, plt.ylim()[0], plt.ylim()[1], linestyles=\"dashed\", label='ATE',colors='k');\n",
    "plt.show()\n",
    "errors.groupby('method').agg(mse=('ATE', 'mean')).reset_index()"
   ]
  }
 ],
 "metadata": {
  "kernelspec": {
   "display_name": "Python 3 (ipykernel)",
   "language": "python",
   "name": "python3"
  },
  "language_info": {
   "codemirror_mode": {
    "name": "ipython",
    "version": 3
   },
   "file_extension": ".py",
   "mimetype": "text/x-python",
   "name": "python",
   "nbconvert_exporter": "python",
   "pygments_lexer": "ipython3",
   "version": "3.8.6"
  },
  "vscode": {
   "interpreter": {
    "hash": "4bd47627eeb889cc051934ef213c8fff214b68c68756492f194bc0175ff32d48"
   }
  }
 },
 "nbformat": 4,
 "nbformat_minor": 5
}