{
 "cells": [
  {
   "cell_type": "code",
   "execution_count": 1,
   "id": "d34ae6e3-40cc-4274-920e-15160155b55e",
   "metadata": {},
   "outputs": [],
   "source": [
    "import os\n",
    "import sys\n",
    "sys.path.append('../src')\n",
    "\n",
    "from generator import generate_samples\n",
    "from utils import split_and_preprocess\n",
    "from adjustment_methods import (\n",
    "    get_ate_ols,\n",
    "    get_ate_cuped,\n",
    "    get_ate_cupac,\n",
    "    get_ate_doubly_robust,\n",
    ")\n",
    "\n",
    "import seaborn as sns\n",
    "import pandas as pd\n",
    "import matplotlib.pyplot as plt\n",
    "\n",
    "%load_ext autoreload\n",
    "%autoreload 2"
   ]
  },
  {
   "cell_type": "markdown",
   "id": "3ea1cb0e-7dc9-4dce-9caf-4e52beac60d5",
   "metadata": {},
   "source": [
    "# Using the generator to generate some samples"
   ]
  },
  {
   "cell_type": "markdown",
   "id": "c007a5e3-2ddb-49be-882a-b496406b4c68",
   "metadata": {},
   "source": [
    "### With no covariates"
   ]
  },
  {
   "cell_type": "code",
   "execution_count": 2,
   "id": "290d2ca4-a8eb-48ba-9f54-02f24bf78e02",
   "metadata": {},
   "outputs": [
    {
     "data": {
      "text/html": [
       "<div>\n",
       "<style scoped>\n",
       "    .dataframe tbody tr th:only-of-type {\n",
       "        vertical-align: middle;\n",
       "    }\n",
       "\n",
       "    .dataframe tbody tr th {\n",
       "        vertical-align: top;\n",
       "    }\n",
       "\n",
       "    .dataframe thead th {\n",
       "        text-align: right;\n",
       "    }\n",
       "</style>\n",
       "<table border=\"1\" class=\"dataframe\">\n",
       "  <thead>\n",
       "    <tr style=\"text-align: right;\">\n",
       "      <th></th>\n",
       "      <th>Y</th>\n",
       "      <th>T</th>\n",
       "      <th>Y_before</th>\n",
       "      <th>R_1</th>\n",
       "    </tr>\n",
       "  </thead>\n",
       "  <tbody>\n",
       "    <tr>\n",
       "      <th>0</th>\n",
       "      <td>8.916047</td>\n",
       "      <td>0</td>\n",
       "      <td>8.401953</td>\n",
       "      <td>0.510439</td>\n",
       "    </tr>\n",
       "    <tr>\n",
       "      <th>1</th>\n",
       "      <td>2.285974</td>\n",
       "      <td>0</td>\n",
       "      <td>4.653811</td>\n",
       "      <td>1.306969</td>\n",
       "    </tr>\n",
       "    <tr>\n",
       "      <th>2</th>\n",
       "      <td>5.777328</td>\n",
       "      <td>0</td>\n",
       "      <td>5.416434</td>\n",
       "      <td>0.607944</td>\n",
       "    </tr>\n",
       "    <tr>\n",
       "      <th>3</th>\n",
       "      <td>3.051358</td>\n",
       "      <td>0</td>\n",
       "      <td>4.657839</td>\n",
       "      <td>0.728742</td>\n",
       "    </tr>\n",
       "    <tr>\n",
       "      <th>4</th>\n",
       "      <td>6.036665</td>\n",
       "      <td>1</td>\n",
       "      <td>5.627835</td>\n",
       "      <td>1.813660</td>\n",
       "    </tr>\n",
       "    <tr>\n",
       "      <th>...</th>\n",
       "      <td>...</td>\n",
       "      <td>...</td>\n",
       "      <td>...</td>\n",
       "      <td>...</td>\n",
       "    </tr>\n",
       "    <tr>\n",
       "      <th>9995</th>\n",
       "      <td>4.380958</td>\n",
       "      <td>0</td>\n",
       "      <td>5.766606</td>\n",
       "      <td>0.119471</td>\n",
       "    </tr>\n",
       "    <tr>\n",
       "      <th>9996</th>\n",
       "      <td>3.441726</td>\n",
       "      <td>0</td>\n",
       "      <td>5.031421</td>\n",
       "      <td>1.057885</td>\n",
       "    </tr>\n",
       "    <tr>\n",
       "      <th>9997</th>\n",
       "      <td>5.296997</td>\n",
       "      <td>0</td>\n",
       "      <td>4.289161</td>\n",
       "      <td>0.807775</td>\n",
       "    </tr>\n",
       "    <tr>\n",
       "      <th>9998</th>\n",
       "      <td>1.584764</td>\n",
       "      <td>0</td>\n",
       "      <td>5.038223</td>\n",
       "      <td>-0.824212</td>\n",
       "    </tr>\n",
       "    <tr>\n",
       "      <th>9999</th>\n",
       "      <td>2.566610</td>\n",
       "      <td>0</td>\n",
       "      <td>5.246496</td>\n",
       "      <td>0.379116</td>\n",
       "    </tr>\n",
       "  </tbody>\n",
       "</table>\n",
       "<p>10000 rows × 4 columns</p>\n",
       "</div>"
      ],
      "text/plain": [
       "             Y  T  Y_before       R_1\n",
       "0     8.916047  0  8.401953  0.510439\n",
       "1     2.285974  0  4.653811  1.306969\n",
       "2     5.777328  0  5.416434  0.607944\n",
       "3     3.051358  0  4.657839  0.728742\n",
       "4     6.036665  1  5.627835  1.813660\n",
       "...        ... ..       ...       ...\n",
       "9995  4.380958  0  5.766606  0.119471\n",
       "9996  3.441726  0  5.031421  1.057885\n",
       "9997  5.296997  0  4.289161  0.807775\n",
       "9998  1.584764  0  5.038223 -0.824212\n",
       "9999  2.566610  0  5.246496  0.379116\n",
       "\n",
       "[10000 rows x 4 columns]"
      ]
     },
     "execution_count": 2,
     "metadata": {},
     "output_type": "execute_result"
    }
   ],
   "source": [
    "data = generate_samples(\n",
    "    mu_metric=5,\n",
    "    sigma_metric=1,\n",
    "    epsilon=2,\n",
    "    treatment_effect=1,\n",
    "    size=10_000,\n",
    "    cov_mu_eps=[],\n",
    "    non_linear=[],\n",
    "    p_binomial=0.1,\n",
    "    seed=0,\n",
    ")\n",
    "data"
   ]
  },
  {
   "cell_type": "markdown",
   "id": "347e94df-b672-47b5-bbf8-3b0da94bac44",
   "metadata": {},
   "source": [
    "### With covariates"
   ]
  },
  {
   "cell_type": "code",
   "execution_count": 3,
   "id": "52463400-6919-4923-8a69-34fe1f30eba2",
   "metadata": {},
   "outputs": [
    {
     "data": {
      "text/html": [
       "<div>\n",
       "<style scoped>\n",
       "    .dataframe tbody tr th:only-of-type {\n",
       "        vertical-align: middle;\n",
       "    }\n",
       "\n",
       "    .dataframe tbody tr th {\n",
       "        vertical-align: top;\n",
       "    }\n",
       "\n",
       "    .dataframe thead th {\n",
       "        text-align: right;\n",
       "    }\n",
       "</style>\n",
       "<table border=\"1\" class=\"dataframe\">\n",
       "  <thead>\n",
       "    <tr style=\"text-align: right;\">\n",
       "      <th></th>\n",
       "      <th>Y</th>\n",
       "      <th>T</th>\n",
       "      <th>Y_before</th>\n",
       "      <th>X_1</th>\n",
       "      <th>X_2</th>\n",
       "      <th>X_3</th>\n",
       "      <th>R_1</th>\n",
       "    </tr>\n",
       "  </thead>\n",
       "  <tbody>\n",
       "    <tr>\n",
       "      <th>0</th>\n",
       "      <td>32.814308</td>\n",
       "      <td>0</td>\n",
       "      <td>4.198508</td>\n",
       "      <td>-1.514822</td>\n",
       "      <td>-0.514003</td>\n",
       "      <td>5.152664</td>\n",
       "      <td>-0.535881</td>\n",
       "    </tr>\n",
       "    <tr>\n",
       "      <th>1</th>\n",
       "      <td>46.548771</td>\n",
       "      <td>0</td>\n",
       "      <td>6.154172</td>\n",
       "      <td>-0.323031</td>\n",
       "      <td>-4.716047</td>\n",
       "      <td>4.095913</td>\n",
       "      <td>1.382199</td>\n",
       "    </tr>\n",
       "    <tr>\n",
       "      <th>2</th>\n",
       "      <td>25.915293</td>\n",
       "      <td>0</td>\n",
       "      <td>3.462125</td>\n",
       "      <td>-0.778343</td>\n",
       "      <td>-2.355986</td>\n",
       "      <td>4.015231</td>\n",
       "      <td>0.286706</td>\n",
       "    </tr>\n",
       "    <tr>\n",
       "      <th>3</th>\n",
       "      <td>5.917597</td>\n",
       "      <td>1</td>\n",
       "      <td>3.343508</td>\n",
       "      <td>-1.042583</td>\n",
       "      <td>-0.076028</td>\n",
       "      <td>0.317474</td>\n",
       "      <td>0.256452</td>\n",
       "    </tr>\n",
       "    <tr>\n",
       "      <th>4</th>\n",
       "      <td>24.606464</td>\n",
       "      <td>0</td>\n",
       "      <td>4.395224</td>\n",
       "      <td>-0.538441</td>\n",
       "      <td>-2.205782</td>\n",
       "      <td>4.287002</td>\n",
       "      <td>1.104979</td>\n",
       "    </tr>\n",
       "    <tr>\n",
       "      <th>...</th>\n",
       "      <td>...</td>\n",
       "      <td>...</td>\n",
       "      <td>...</td>\n",
       "      <td>...</td>\n",
       "      <td>...</td>\n",
       "      <td>...</td>\n",
       "      <td>...</td>\n",
       "    </tr>\n",
       "    <tr>\n",
       "      <th>9995</th>\n",
       "      <td>27.781755</td>\n",
       "      <td>0</td>\n",
       "      <td>5.833250</td>\n",
       "      <td>-0.832155</td>\n",
       "      <td>-3.073241</td>\n",
       "      <td>2.977355</td>\n",
       "      <td>-1.782590</td>\n",
       "    </tr>\n",
       "    <tr>\n",
       "      <th>9996</th>\n",
       "      <td>37.173207</td>\n",
       "      <td>1</td>\n",
       "      <td>4.455245</td>\n",
       "      <td>0.106551</td>\n",
       "      <td>-3.971299</td>\n",
       "      <td>3.708074</td>\n",
       "      <td>-1.067164</td>\n",
       "    </tr>\n",
       "    <tr>\n",
       "      <th>9997</th>\n",
       "      <td>18.445748</td>\n",
       "      <td>0</td>\n",
       "      <td>4.625435</td>\n",
       "      <td>-0.297964</td>\n",
       "      <td>-1.695440</td>\n",
       "      <td>3.661950</td>\n",
       "      <td>-0.070935</td>\n",
       "    </tr>\n",
       "    <tr>\n",
       "      <th>9998</th>\n",
       "      <td>27.018683</td>\n",
       "      <td>0</td>\n",
       "      <td>5.960071</td>\n",
       "      <td>-2.117309</td>\n",
       "      <td>-3.667067</td>\n",
       "      <td>2.114243</td>\n",
       "      <td>0.876208</td>\n",
       "    </tr>\n",
       "    <tr>\n",
       "      <th>9999</th>\n",
       "      <td>29.225237</td>\n",
       "      <td>0</td>\n",
       "      <td>5.457119</td>\n",
       "      <td>0.922242</td>\n",
       "      <td>-3.404664</td>\n",
       "      <td>2.821949</td>\n",
       "      <td>-1.674261</td>\n",
       "    </tr>\n",
       "  </tbody>\n",
       "</table>\n",
       "<p>10000 rows × 7 columns</p>\n",
       "</div>"
      ],
      "text/plain": [
       "              Y  T  Y_before       X_1       X_2       X_3       R_1\n",
       "0     32.814308  0  4.198508 -1.514822 -0.514003  5.152664 -0.535881\n",
       "1     46.548771  0  6.154172 -0.323031 -4.716047  4.095913  1.382199\n",
       "2     25.915293  0  3.462125 -0.778343 -2.355986  4.015231  0.286706\n",
       "3      5.917597  1  3.343508 -1.042583 -0.076028  0.317474  0.256452\n",
       "4     24.606464  0  4.395224 -0.538441 -2.205782  4.287002  1.104979\n",
       "...         ... ..       ...       ...       ...       ...       ...\n",
       "9995  27.781755  0  5.833250 -0.832155 -3.073241  2.977355 -1.782590\n",
       "9996  37.173207  1  4.455245  0.106551 -3.971299  3.708074 -1.067164\n",
       "9997  18.445748  0  4.625435 -0.297964 -1.695440  3.661950 -0.070935\n",
       "9998  27.018683  0  5.960071 -2.117309 -3.667067  2.114243  0.876208\n",
       "9999  29.225237  0  5.457119  0.922242 -3.404664  2.821949 -1.674261\n",
       "\n",
       "[10000 rows x 7 columns]"
      ]
     },
     "execution_count": 3,
     "metadata": {},
     "output_type": "execute_result"
    }
   ],
   "source": [
    "data = generate_samples(\n",
    "    mu_metric=5,\n",
    "    sigma_metric=1,\n",
    "    epsilon=2,\n",
    "    treatment_effect=2,\n",
    "    size=10_000,\n",
    "    cov_mu_eps=[(-1,1),(-2,1),(5,2)],\n",
    "    non_linear=[True, True, True],\n",
    "    p_binomial=0.05,\n",
    "    seed=0,\n",
    ")\n",
    "data"
   ]
  },
  {
   "cell_type": "markdown",
   "id": "5efd4e1d-2fdf-4a6f-9cec-b4fbbce04a14",
   "metadata": {},
   "source": [
    "# Getting a single ATE for this data"
   ]
  },
  {
   "cell_type": "code",
   "execution_count": 4,
   "id": "883d081e",
   "metadata": {},
   "outputs": [],
   "source": [
    "train_data, test_data = split_and_preprocess(data, treatment_effect=2)"
   ]
  },
  {
   "cell_type": "markdown",
   "id": "5f2722b8-40ba-480b-9b26-617711dcee76",
   "metadata": {},
   "source": [
    "### CUPED"
   ]
  },
  {
   "cell_type": "markdown",
   "id": "3625e9e0-27df-4b94-8cc8-d9991a6249f6",
   "metadata": {},
   "source": [
    "Only uses outcome pre experiment"
   ]
  },
  {
   "cell_type": "code",
   "execution_count": 5,
   "id": "bdae3555-fb9d-411c-bdc0-4e4e2fb55ae1",
   "metadata": {},
   "outputs": [
    {
     "data": {
      "text/plain": [
       "-0.7107941733831922"
      ]
     },
     "execution_count": 5,
     "metadata": {},
     "output_type": "execute_result"
    }
   ],
   "source": [
    "get_ate_cuped(test_data)"
   ]
  },
  {
   "cell_type": "markdown",
   "id": "5a447abd-2f11-4fba-a9c8-36a013d2dfdc",
   "metadata": {},
   "source": [
    "### Multivariable regression"
   ]
  },
  {
   "cell_type": "code",
   "execution_count": 6,
   "id": "5356566a-c786-45af-b3ad-ee2d75e2d6db",
   "metadata": {},
   "outputs": [
    {
     "data": {
      "text/plain": [
       "1.875249229592817"
      ]
     },
     "execution_count": 6,
     "metadata": {},
     "output_type": "execute_result"
    }
   ],
   "source": [
    "get_ate_ols(test_data, covariates=[\"Y_before\", \"X_1\", \"X_2\", \"X_3\"])"
   ]
  },
  {
   "cell_type": "markdown",
   "id": "1fd13d67-9bfe-4aa4-976a-6d4c4b0ddb77",
   "metadata": {},
   "source": [
    "### CUPAC"
   ]
  },
  {
   "cell_type": "code",
   "execution_count": 7,
   "id": "33923d6d",
   "metadata": {},
   "outputs": [
    {
     "data": {
      "text/plain": [
       "1.8395160432641262"
      ]
     },
     "execution_count": 7,
     "metadata": {},
     "output_type": "execute_result"
    }
   ],
   "source": [
    "get_ate_cupac(test_data, train_data, covariates=[\"Y_before\", \"X_1\", \"X_2\", \"X_3\"])"
   ]
  },
  {
   "cell_type": "markdown",
   "id": "97660539-c653-4614-aab4-ff5cdc4ba846",
   "metadata": {},
   "source": [
    "### Doubly Robust"
   ]
  },
  {
   "cell_type": "code",
   "execution_count": 8,
   "id": "1d4b5726",
   "metadata": {},
   "outputs": [
    {
     "data": {
      "text/plain": [
       "1.3452423391307988"
      ]
     },
     "execution_count": 8,
     "metadata": {},
     "output_type": "execute_result"
    }
   ],
   "source": [
    "get_ate_doubly_robust(test_data, covariates=[\"Y_before\", \"X_1\", \"X_2\", \"X_3\"])"
   ]
  },
  {
   "cell_type": "code",
   "execution_count": 9,
   "id": "fa061330-fcc3-4182-895a-34e6a5019f65",
   "metadata": {},
   "outputs": [
    {
     "data": {
      "text/plain": [
       "1.3452423391307988"
      ]
     },
     "execution_count": 9,
     "metadata": {},
     "output_type": "execute_result"
    }
   ],
   "source": [
    "get_ate_doubly_robust(test_data, covariates=[\"Y_before\", \"X_1\", \"X_2\", \"X_3\"], propensity_score=0.5)"
   ]
  },
  {
   "cell_type": "markdown",
   "id": "1532aa92-8075-44db-9e1d-a6c362be6d89",
   "metadata": {},
   "source": [
    "## Simulating the experiment many times, supposing only linear effects"
   ]
  },
  {
   "cell_type": "markdown",
   "id": "0ea41aae-5999-403e-a4fb-2e5a03495816",
   "metadata": {},
   "source": [
    "$$\\epsilon \\sim N(0,2)$$\n",
    "$$Y_0 \\sim N(20,10)$$\n",
    "$$X_1 \\sim N(-1,-1)$$\n",
    "$$X_2 \\sim N(-2,1)$$\n",
    "$$X_3 \\sim N(5,5)$$\n",
    "\n",
    "$$Y = Y_0 + 0.1*T + X_1 + X_2 + X_3 + \\epsilon$$"
   ]
  },
  {
   "cell_type": "code",
   "execution_count": 10,
   "id": "10ee55b2",
   "metadata": {},
   "outputs": [
    {
     "data": {
      "text/html": [
       "<div>\n",
       "<style scoped>\n",
       "    .dataframe tbody tr th:only-of-type {\n",
       "        vertical-align: middle;\n",
       "    }\n",
       "\n",
       "    .dataframe tbody tr th {\n",
       "        vertical-align: top;\n",
       "    }\n",
       "\n",
       "    .dataframe thead tr th {\n",
       "        text-align: left;\n",
       "    }\n",
       "\n",
       "    .dataframe thead tr:last-of-type th {\n",
       "        text-align: right;\n",
       "    }\n",
       "</style>\n",
       "<table border=\"1\" class=\"dataframe\">\n",
       "  <thead>\n",
       "    <tr>\n",
       "      <th></th>\n",
       "      <th colspan=\"2\" halign=\"left\">ATE</th>\n",
       "    </tr>\n",
       "    <tr>\n",
       "      <th></th>\n",
       "      <th>mean</th>\n",
       "      <th>std</th>\n",
       "    </tr>\n",
       "    <tr>\n",
       "      <th>method</th>\n",
       "      <th></th>\n",
       "      <th></th>\n",
       "    </tr>\n",
       "  </thead>\n",
       "  <tbody>\n",
       "    <tr>\n",
       "      <th>cupac</th>\n",
       "      <td>0.109764</td>\n",
       "      <td>0.088484</td>\n",
       "    </tr>\n",
       "    <tr>\n",
       "      <th>cuped</th>\n",
       "      <td>0.118849</td>\n",
       "      <td>0.265754</td>\n",
       "    </tr>\n",
       "    <tr>\n",
       "      <th>doubly_robust</th>\n",
       "      <td>0.117581</td>\n",
       "      <td>0.092756</td>\n",
       "    </tr>\n",
       "    <tr>\n",
       "      <th>mean_diff</th>\n",
       "      <td>0.197180</td>\n",
       "      <td>0.527197</td>\n",
       "    </tr>\n",
       "    <tr>\n",
       "      <th>ols_cov_all</th>\n",
       "      <td>0.112455</td>\n",
       "      <td>0.078846</td>\n",
       "    </tr>\n",
       "  </tbody>\n",
       "</table>\n",
       "</div>"
      ],
      "text/plain": [
       "                    ATE          \n",
       "                   mean       std\n",
       "method                           \n",
       "cupac          0.109764  0.088484\n",
       "cuped          0.118849  0.265754\n",
       "doubly_robust  0.117581  0.092756\n",
       "mean_diff      0.197180  0.527197\n",
       "ols_cov_all    0.112455  0.078846"
      ]
     },
     "execution_count": 10,
     "metadata": {},
     "output_type": "execute_result"
    }
   ],
   "source": [
    "ate = []\n",
    "ate_cuped = []\n",
    "ate_ols_cov = []\n",
    "ate_cupac = []\n",
    "ate_doubly_robust = []\n",
    "\n",
    "N_SAMPLES = 10_000\n",
    "REAL_ATE = 0.1\n",
    "\n",
    "for i in range(100):\n",
    "    data = generate_samples(\n",
    "        mu_metric=20,\n",
    "        sigma_metric=10,\n",
    "        epsilon=2,\n",
    "        treatment_effect=REAL_ATE,\n",
    "        size=10_000,\n",
    "        cov_mu_eps=[(-1,1),(-2,1),(5,5)],\n",
    "    )\n",
    "\n",
    "    pre_analysis_data, analysis_data = split_and_preprocess(data, REAL_ATE)\n",
    "    ate_cupac.append(get_ate_cupac(analysis_data, pre_analysis_data, covariates=['Y_before', 'X_1', 'X_2', 'X_3']))\n",
    "    ate.append(analysis_data.loc[analysis_data['T']==1, 'Y'].mean() - analysis_data.loc[analysis_data['T']==0, 'Y'].mean())\n",
    "    ate_ols_cov.append(get_ate_ols(analysis_data, covariates=['Y_before', 'X_1', 'X_2', 'X_3']))\n",
    "    ate_cuped.append(get_ate_cuped(analysis_data))\n",
    "    ate_doubly_robust.append(get_ate_doubly_robust(analysis_data, covariates=['Y_before', 'X_1', 'X_2', 'X_3']))\n",
    "    \n",
    "results_linear = pd.DataFrame({\n",
    "    'mean_diff': ate,\n",
    "    'ols_cov_all': ate_ols_cov,\n",
    "    'cuped': ate_cuped,\n",
    "    'cupac': ate_cupac,\n",
    "    'doubly_robust': ate_doubly_robust\n",
    "})\n",
    "results_linear = results_linear.stack(level=0).reset_index(level=1, name='ATE').rename({'level_1': 'method'}, axis=1).reset_index(drop=True)\n",
    "results_linear.groupby('method').agg(['mean','std'])"
   ]
  },
  {
   "cell_type": "code",
   "execution_count": 11,
   "id": "14c8e5e7",
   "metadata": {},
   "outputs": [
    {
     "data": {
      "image/png": "[encoded data removed]",
      "text/plain": [
       "<Figure size 648.375x500 with 1 Axes>"
      ]
     },
     "metadata": {},
     "output_type": "display_data"
    }
   ],
   "source": [
    "sns.displot(x='ATE',data=results_linear, fill=True, kind='kde', hue='method', common_norm=False, alpha=.4, linewidth=0, bw_adjust=1.2);\n",
    "plt.vlines(REAL_ATE, plt.ylim()[0], plt.ylim()[1], linestyles=\"dashed\", label='ATE',colors='k');\n",
    "plt.show()"
   ]
  },
  {
   "cell_type": "markdown",
   "id": "27f3423a-f428-4775-9770-f843f697ab3c",
   "metadata": {},
   "source": [
    "## Now simulating the same linear process, but using only a random variable as a covariate"
   ]
  },
  {
   "cell_type": "code",
   "execution_count": 12,
   "id": "226f2937",
   "metadata": {},
   "outputs": [
    {
     "data": {
      "text/html": [
       "<div>\n",
       "<style scoped>\n",
       "    .dataframe tbody tr th:only-of-type {\n",
       "        vertical-align: middle;\n",
       "    }\n",
       "\n",
       "    .dataframe tbody tr th {\n",
       "        vertical-align: top;\n",
       "    }\n",
       "\n",
       "    .dataframe thead tr th {\n",
       "        text-align: left;\n",
       "    }\n",
       "\n",
       "    .dataframe thead tr:last-of-type th {\n",
       "        text-align: right;\n",
       "    }\n",
       "</style>\n",
       "<table border=\"1\" class=\"dataframe\">\n",
       "  <thead>\n",
       "    <tr>\n",
       "      <th></th>\n",
       "      <th colspan=\"2\" halign=\"left\">ATE</th>\n",
       "    </tr>\n",
       "    <tr>\n",
       "      <th></th>\n",
       "      <th>mean</th>\n",
       "      <th>std</th>\n",
       "    </tr>\n",
       "    <tr>\n",
       "      <th>method</th>\n",
       "      <th></th>\n",
       "      <th></th>\n",
       "    </tr>\n",
       "  </thead>\n",
       "  <tbody>\n",
       "    <tr>\n",
       "      <th>cupac</th>\n",
       "      <td>0.108883</td>\n",
       "      <td>0.495182</td>\n",
       "    </tr>\n",
       "    <tr>\n",
       "      <th>cuped</th>\n",
       "      <td>0.112531</td>\n",
       "      <td>0.476076</td>\n",
       "    </tr>\n",
       "    <tr>\n",
       "      <th>doubly_robust</th>\n",
       "      <td>0.088766</td>\n",
       "      <td>0.471139</td>\n",
       "    </tr>\n",
       "    <tr>\n",
       "      <th>mean_diff</th>\n",
       "      <td>0.109719</td>\n",
       "      <td>0.481828</td>\n",
       "    </tr>\n",
       "    <tr>\n",
       "      <th>ols_cov_all</th>\n",
       "      <td>0.108374</td>\n",
       "      <td>0.482260</td>\n",
       "    </tr>\n",
       "  </tbody>\n",
       "</table>\n",
       "</div>"
      ],
      "text/plain": [
       "                    ATE          \n",
       "                   mean       std\n",
       "method                           \n",
       "cupac          0.108883  0.495182\n",
       "cuped          0.112531  0.476076\n",
       "doubly_robust  0.088766  0.471139\n",
       "mean_diff      0.109719  0.481828\n",
       "ols_cov_all    0.108374  0.482260"
      ]
     },
     "execution_count": 12,
     "metadata": {},
     "output_type": "execute_result"
    }
   ],
   "source": [
    "ate = []\n",
    "ate_cuped = []\n",
    "ate_ols_cov = []\n",
    "ate_cupac = []\n",
    "ate_doubly_robust = []\n",
    "\n",
    "N_SAMPLES = 10_000\n",
    "REAL_ATE = 0.1\n",
    "\n",
    "for i in range(100):\n",
    "    data = generate_samples(\n",
    "        mu_metric=20,\n",
    "        sigma_metric=10,\n",
    "        epsilon=2,\n",
    "        treatment_effect=REAL_ATE,\n",
    "        size=10_000,\n",
    "        cov_mu_eps=[(-1,1),(-2,1),(5,2)],\n",
    "    )\n",
    "\n",
    "    pre_analysis_data, analysis_data = split_and_preprocess(data, REAL_ATE)\n",
    "    ate_cupac.append(get_ate_cupac(analysis_data, pre_analysis_data, covariates=['R_1']))\n",
    "    ate.append(analysis_data.loc[analysis_data['T']==1, 'Y'].mean() - analysis_data.loc[analysis_data['T']==0, 'Y'].mean())\n",
    "    ate_ols_cov.append(get_ate_ols(analysis_data, covariates=['R_1']))\n",
    "    ate_cuped.append(get_ate_cuped(analysis_data, prediction_column='R_1'))\n",
    "    ate_doubly_robust.append(get_ate_doubly_robust(analysis_data, covariates=['R_1']))\n",
    "    \n",
    "results_imbalance = pd.DataFrame({\n",
    "    'mean_diff': ate,\n",
    "    'ols_cov_all': ate_ols_cov,\n",
    "    'cuped': ate_cuped,\n",
    "    'cupac': ate_cupac,\n",
    "    'doubly_robust': ate_doubly_robust\n",
    "})\n",
    "results_imbalance = results_imbalance.stack(level=0).reset_index(level=1, name='ATE').rename({'level_1': 'method'}, axis=1).reset_index(drop=True)\n",
    "results_imbalance.groupby('method').agg(['mean','std'])"
   ]
  },
  {
   "cell_type": "code",
   "execution_count": 13,
   "id": "98c53195",
   "metadata": {},
   "outputs": [
    {
     "data": {
      "image/png": "[encoded data removed]",
      "text/plain": [
       "<Figure size 648.375x500 with 1 Axes>"
      ]
     },
     "metadata": {},
     "output_type": "display_data"
    }
   ],
   "source": [
    "sns.displot(x='ATE',data=results_imbalance, fill=True, kind='kde', hue='method', common_norm=False, alpha=.4, linewidth=0, bw_adjust=1.2);\n",
    "plt.vlines(REAL_ATE, plt.ylim()[0], plt.ylim()[1], linestyles=\"dashed\", label='ATE',colors='k');\n",
    "plt.show()"
   ]
  },
  {
   "cell_type": "markdown",
   "id": "2beb8c40-f688-4c56-9f48-12c1e6b264d7",
   "metadata": {},
   "source": [
    "## Simulating now with non-linear effects"
   ]
  },
  {
   "cell_type": "markdown",
   "id": "9ff49ad6-dbcb-4e78-9b35-2c8efe8dbcf8",
   "metadata": {},
   "source": [
    "$$\\epsilon \\sim N(0,2)$$\n",
    "$$Y_0 \\sim N(20,10)$$\n",
    "$$X_1 \\sim N(-1,-1)$$\n",
    "$$X_2 \\sim N(-2,1)$$\n",
    "$$X_3 \\sim N(5,5)$$\n",
    "\n",
    "$$Y = Y_0 + 0.1*T + X_1 + X_2 + X_3^2 + \\epsilon$$"
   ]
  },
  {
   "cell_type": "code",
   "execution_count": 14,
   "id": "fa0da721-7f96-4394-8c3d-90487764683d",
   "metadata": {},
   "outputs": [
    {
     "data": {
      "text/html": [
       "<div>\n",
       "<style scoped>\n",
       "    .dataframe tbody tr th:only-of-type {\n",
       "        vertical-align: middle;\n",
       "    }\n",
       "\n",
       "    .dataframe tbody tr th {\n",
       "        vertical-align: top;\n",
       "    }\n",
       "\n",
       "    .dataframe thead tr th {\n",
       "        text-align: left;\n",
       "    }\n",
       "\n",
       "    .dataframe thead tr:last-of-type th {\n",
       "        text-align: right;\n",
       "    }\n",
       "</style>\n",
       "<table border=\"1\" class=\"dataframe\">\n",
       "  <thead>\n",
       "    <tr>\n",
       "      <th></th>\n",
       "      <th colspan=\"2\" halign=\"left\">ATE</th>\n",
       "    </tr>\n",
       "    <tr>\n",
       "      <th></th>\n",
       "      <th>mean</th>\n",
       "      <th>std</th>\n",
       "    </tr>\n",
       "    <tr>\n",
       "      <th>method</th>\n",
       "      <th></th>\n",
       "      <th></th>\n",
       "    </tr>\n",
       "  </thead>\n",
       "  <tbody>\n",
       "    <tr>\n",
       "      <th>cupac</th>\n",
       "      <td>0.086912</td>\n",
       "      <td>0.223261</td>\n",
       "    </tr>\n",
       "    <tr>\n",
       "      <th>cuped</th>\n",
       "      <td>-0.302385</td>\n",
       "      <td>2.530635</td>\n",
       "    </tr>\n",
       "    <tr>\n",
       "      <th>doubly_robust</th>\n",
       "      <td>0.120980</td>\n",
       "      <td>0.456330</td>\n",
       "    </tr>\n",
       "    <tr>\n",
       "      <th>mean_diff</th>\n",
       "      <td>-0.309921</td>\n",
       "      <td>2.489109</td>\n",
       "    </tr>\n",
       "    <tr>\n",
       "      <th>ols_cov_all</th>\n",
       "      <td>-0.068539</td>\n",
       "      <td>1.695842</td>\n",
       "    </tr>\n",
       "  </tbody>\n",
       "</table>\n",
       "</div>"
      ],
      "text/plain": [
       "                    ATE          \n",
       "                   mean       std\n",
       "method                           \n",
       "cupac          0.086912  0.223261\n",
       "cuped         -0.302385  2.530635\n",
       "doubly_robust  0.120980  0.456330\n",
       "mean_diff     -0.309921  2.489109\n",
       "ols_cov_all   -0.068539  1.695842"
      ]
     },
     "execution_count": 14,
     "metadata": {},
     "output_type": "execute_result"
    }
   ],
   "source": [
    "ate = []\n",
    "ate_cuped = []\n",
    "ate_ols_cov = []\n",
    "ate_cupac = []\n",
    "ate_doubly_robust = []\n",
    "\n",
    "N_SAMPLES = 10_000\n",
    "REAL_ATE = 0.1\n",
    "\n",
    "for i in range(100):\n",
    "    data = generate_samples(\n",
    "        mu_metric=20,\n",
    "        sigma_metric=10,\n",
    "        epsilon=2,\n",
    "        treatment_effect=REAL_ATE,\n",
    "        size=10_000,\n",
    "        cov_mu_eps=[(-1,1),(-2,1),(5,5)],\n",
    "        non_linear=[False, False, True]\n",
    "    )\n",
    "\n",
    "    pre_analysis_data, analysis_data = split_and_preprocess(data, REAL_ATE)\n",
    "    ate_cupac.append(get_ate_cupac(analysis_data, pre_analysis_data, covariates=['Y_before', 'X_1', 'X_2', 'X_3']))\n",
    "    ate.append(analysis_data.loc[analysis_data['T']==1, 'Y'].mean() - analysis_data.loc[analysis_data['T']==0, 'Y'].mean())\n",
    "    ate_ols_cov.append(get_ate_ols(analysis_data, covariates=['Y_before', 'X_1', 'X_2', 'X_3']))\n",
    "    ate_cuped.append(get_ate_cuped(analysis_data))\n",
    "    ate_doubly_robust.append(get_ate_doubly_robust(analysis_data, covariates=['Y_before', 'X_1', 'X_2', 'X_3']))\n",
    "    \n",
    "results = pd.DataFrame({\n",
    "    'mean_diff': ate,\n",
    "    'ols_cov_all': ate_ols_cov,\n",
    "    'cuped': ate_cuped,\n",
    "    'cupac': ate_cupac,\n",
    "    'doubly_robust': ate_doubly_robust\n",
    "})\n",
    "results = results.stack(level=0).reset_index(level=1, name='ATE').rename({'level_1': 'method'}, axis=1).reset_index(drop=True)\n",
    "results.groupby('method').agg(['mean','std'])"
   ]
  },
  {
   "cell_type": "code",
   "execution_count": 15,
   "id": "2d053003-147c-4402-8be3-f8812be369c0",
   "metadata": {},
   "outputs": [
    {
     "data": {
      "image/png": "[encoded data removed]",
      "text/plain": [
       "<Figure size 648.375x500 with 1 Axes>"
      ]
     },
     "metadata": {},
     "output_type": "display_data"
    }
   ],
   "source": [
    "sns.displot(x='ATE',data=results, fill=True, kind='kde', hue='method', common_norm=False, alpha=.4, linewidth=0, bw_adjust=1.2);\n",
    "plt.vlines(REAL_ATE, plt.ylim()[0], plt.ylim()[1], linestyles=\"dashed\", label='ATE',colors='k');\n",
    "plt.show()"
   ]
  }
 ],
 "metadata": {
  "kernelspec": {
   "display_name": "Python 3 (ipykernel)",
   "language": "python",
   "name": "python3"
  },
  "language_info": {
   "codemirror_mode": {
    "name": "ipython",
    "version": 3
   },
   "file_extension": ".py",
   "mimetype": "text/x-python",
   "name": "python",
   "nbconvert_exporter": "python",
   "pygments_lexer": "ipython3",
   "version": "3.8.6"
  },
  "vscode": {
   "interpreter": {
    "hash": "4bd47627eeb889cc051934ef213c8fff214b68c68756492f194bc0175ff32d48"
   }
  }
 },
 "nbformat": 4,
 "nbformat_minor": 5
}